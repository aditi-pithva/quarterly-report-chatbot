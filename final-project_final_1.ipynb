{
 "cells": [
  {
   "cell_type": "code",
   "execution_count": 437,
   "id": "2cd24212-ff75-4258-b972-671e0b3f2554",
   "metadata": {},
   "outputs": [
    {
     "name": "stdout",
     "output_type": "stream",
     "text": [
      "Requirement already satisfied: tabula-py in c:\\users\\mis\\anaconda3\\lib\\site-packages (2.10.0)Note: you may need to restart the kernel to use updated packages.\n",
      "\n",
      "Requirement already satisfied: pandas>=0.25.3 in c:\\users\\mis\\anaconda3\\lib\\site-packages (from tabula-py) (2.1.4)\n",
      "Requirement already satisfied: numpy>1.24.4 in c:\\users\\mis\\anaconda3\\lib\\site-packages (from tabula-py) (1.26.4)\n",
      "Requirement already satisfied: distro in c:\\users\\mis\\anaconda3\\lib\\site-packages (from tabula-py) (1.8.0)\n",
      "Requirement already satisfied: python-dateutil>=2.8.2 in c:\\users\\mis\\anaconda3\\lib\\site-packages (from pandas>=0.25.3->tabula-py) (2.8.2)\n",
      "Requirement already satisfied: pytz>=2020.1 in c:\\users\\mis\\anaconda3\\lib\\site-packages (from pandas>=0.25.3->tabula-py) (2023.3.post1)\n",
      "Requirement already satisfied: tzdata>=2022.1 in c:\\users\\mis\\anaconda3\\lib\\site-packages (from pandas>=0.25.3->tabula-py) (2023.3)\n",
      "Requirement already satisfied: six>=1.5 in c:\\users\\mis\\anaconda3\\lib\\site-packages (from python-dateutil>=2.8.2->pandas>=0.25.3->tabula-py) (1.16.0)\n"
     ]
    }
   ],
   "source": [
    "pip install tabula-py"
   ]
  },
  {
   "cell_type": "code",
   "execution_count": 438,
   "id": "7c3f52cc-edd5-4d4e-8fb5-6b996b410bec",
   "metadata": {},
   "outputs": [],
   "source": [
    "import pandas as pd\n",
    "import tabula\n",
    "import numpy as np\n",
    "from tabula import read_pdf\n",
    "import joblib\n",
    "from sklearn.model_selection import train_test_split, RandomizedSearchCV\n",
    "from sklearn.pipeline import Pipeline\n",
    "from sklearn.linear_model import LinearRegression\n",
    "from sklearn.ensemble import RandomForestRegressor\n",
    "from xgboost import XGBRegressor\n",
    "from sklearn.metrics import mean_squared_error, r2_score, mean_absolute_error\n",
    "from sklearn.feature_extraction.text import TfidfVectorizer\n",
    "from sklearn.base import BaseEstimator, TransformerMixin\n",
    "from sklearn.preprocessing import LabelEncoder, StandardScaler\n",
    "import pickle\n",
    "import seaborn as sns\n",
    "import matplotlib.pyplot as plt\n",
    "import re\n"
   ]
  },
  {
   "cell_type": "code",
   "execution_count": 439,
   "id": "c9bf8e56-5e73-44d3-b09e-5f50c7228a9d",
   "metadata": {},
   "outputs": [],
   "source": [
    "#run only if below code gives error like [Errno 2] No such file or directory: 'C:\\\\Program Files\\\\Java\\\\jre1.8.0_202\\\\bin\\\\server\\\\jvm.dll'\n",
    "# import jpype\n",
    "# jpype.startJVM(\"C:\\\\Program Files\\\\Java\\\\jdk-17.0.1\\\\bin\\\\server\\\\jvm.dll\")"
   ]
  },
  {
   "cell_type": "markdown",
   "id": "ba208482-dac0-4ec4-b865-b8a21fcd3e89",
   "metadata": {},
   "source": [
    "# Common Extracting and preprocessing Logic "
   ]
  },
  {
   "cell_type": "markdown",
   "id": "07a73bfc-b783-4290-b741-05594ff1ede7",
   "metadata": {},
   "source": [
    "## Extract tables"
   ]
  },
  {
   "cell_type": "code",
   "execution_count": 440,
   "id": "e49132d9-4828-4a49-956c-dab3e647203c",
   "metadata": {},
   "outputs": [],
   "source": [
    "def extract_table_from_pdf(pdf_path, page_number, area=None, multiple_tables=False, stream=True):\n",
    "    tables = read_pdf(\n",
    "        pdf_path,\n",
    "        pages=page_number,\n",
    "        area=area,  \n",
    "        multiple_tables=multiple_tables,\n",
    "        stream=stream\n",
    "    )\n",
    "\n",
    "    table_df = pd.DataFrame()\n",
    "\n",
    "    if tables:\n",
    "        for i, table in enumerate(tables if isinstance(tables, list) else [tables]):\n",
    "            new_headers = table.iloc[0]\n",
    "            table.columns = new_headers\n",
    "            table = table.drop(0).reset_index(drop=True)\n",
    "            if not multiple_tables:\n",
    "                return table\n",
    "            else:\n",
    "                table_df = pd.concat([table_df, table], ignore_index=True)\n",
    "    else:\n",
    "        print(f\"No tables found on page {page_number}.\")\n",
    "    return table_df"
   ]
  },
  {
   "cell_type": "markdown",
   "id": "ad5ed5d4-25d1-4583-90ec-41dd71d2674a",
   "metadata": {},
   "source": [
    "## Page 1 "
   ]
  },
  {
   "cell_type": "code",
   "execution_count": 441,
   "id": "1e7b6091-018f-462e-b38d-57ad440cbd8d",
   "metadata": {},
   "outputs": [],
   "source": [
    "def raname_page1_columns(table_df, column_renames=None, unnamed_column_start=1):\n",
    "    if table_df.empty:\n",
    "        raise ValueError(\"The input DataFrame is empty.\")\n",
    "\n",
    "    table_df.columns = [\n",
    "        str(i) if pd.isna(col) else col\n",
    "        for i, col in enumerate(table_df.columns, start=unnamed_column_start)\n",
    "    ]\n",
    "\n",
    "    if column_renames:\n",
    "        table_df = table_df.rename(columns=column_renames)\n",
    "\n",
    "    return table_df"
   ]
  },
  {
   "cell_type": "code",
   "execution_count": 442,
   "id": "872bce93-fd98-41e3-adbd-1f5dad96f44c",
   "metadata": {},
   "outputs": [],
   "source": [
    "\n",
    "def process_and_unpivot_table_p1(table):\n",
    "    table.columns = table.columns.astype(str)\n",
    "    table = table.iloc[1:].reset_index(drop=True)\n",
    "    table = table.applymap(lambda x: x if not isinstance(x, list) else ', '.join(map(str, x)))\n",
    "    id_col = table.columns[0]\n",
    "    try:\n",
    "        unpivoted_table = pd.melt(\n",
    "            table,\n",
    "            id_vars=[id_col],\n",
    "            var_name=\"Column Name\", \n",
    "            value_name=\"Value\"\n",
    "        )\n",
    "    except ValueError as e:\n",
    "        print(f\"Error while melting: {e}\")\n",
    "        print(f\"Columns: {table.columns}\")\n",
    "        return pd.DataFrame() \n",
    "\n",
    "    # Add a combined text column\n",
    "    unpivoted_table['text'] = unpivoted_table[id_col] + \" - \" + unpivoted_table[\"Column Name\"]\n",
    "    \n",
    "    # Clean the 'Value' column\n",
    "    unpivoted_table['Value'] = (\n",
    "        unpivoted_table['Value']\n",
    "        .astype(str)             \n",
    "        .str.replace(r'[\\$%,]', '', regex=True) \n",
    "        .str.replace('million', '', regex=False)\n",
    "        .str.strip()                    \n",
    "    )\n",
    "    \n",
    "    unpivoted_table['Value'] = unpivoted_table['Value'].replace('nan', np.NaN)\n",
    "    unpivoted_table['Value'] = pd.to_numeric(unpivoted_table['Value'], errors='coerce')\n",
    "    unpivoted_table = unpivoted_table[['text', 'Value']]\n",
    "    \n",
    "    return unpivoted_table"
   ]
  },
  {
   "cell_type": "markdown",
   "id": "fc34b24e-f92c-4476-b072-3193a758d3b2",
   "metadata": {},
   "source": [
    "## Page 3 to 7"
   ]
  },
  {
   "cell_type": "code",
   "execution_count": 443,
   "id": "6873d94a-de6d-4a34-b0fb-870fb0c974a2",
   "metadata": {},
   "outputs": [],
   "source": [
    "def split_merged_columns(table, column_index, new_column_name=None):\n",
    "    data_from_column = table.iloc[:, column_index]\n",
    "    header_of_column = table.columns[column_index]\n",
    "    if not new_column_name:\n",
    "        new_column_name = f\"New {header_of_column}\"\n",
    "    table[new_column_name] = data_from_column\n",
    "\n",
    "    return table"
   ]
  },
  {
   "cell_type": "code",
   "execution_count": 444,
   "id": "a3c44b36-a2dc-4bfc-93d6-5132e857469e",
   "metadata": {},
   "outputs": [],
   "source": [
    "def format_columns(df, fourth_column_index=3, last_column_index=-1):\n",
    "    fourth_column_name = df.columns[fourth_column_index]\n",
    "    df[fourth_column_name] = df[fourth_column_name].astype(str).apply(\n",
    "        lambda x: x.replace('$', '').replace(',', '').replace('\\xa0', ' ').strip() if isinstance(x, str) else x\n",
    "    )\n",
    "    df[fourth_column_name] = df[fourth_column_name].apply(\n",
    "        lambda x: x.split(' ')[0] if isinstance(x, str) and ' ' in x else x\n",
    "    )\n",
    "    last_column_name = df.columns[last_column_index]\n",
    "    df[last_column_name] = df[last_column_name].astype(str).apply(\n",
    "        lambda x: x.replace('$', '').replace(',', '').replace('\\xa0', ' ').strip() if isinstance(x, str) else x\n",
    "    )\n",
    "    df[last_column_name] = df[last_column_name].apply(\n",
    "        lambda x: x.split(' ')[-1] if isinstance(x, str) and ' ' in x else x\n",
    "    )\n",
    "\n",
    "    return df"
   ]
  },
  {
   "cell_type": "code",
   "execution_count": 445,
   "id": "15b60531-289c-4db2-8d9b-663c2a72e717",
   "metadata": {},
   "outputs": [],
   "source": [
    "def process_table_headers_and_convert(table_df, num_header_rows=4, handle_merged_columns=False):\n",
    "    original_headers = table_df.columns.astype(str).fillna('')\n",
    "    headers = table_df.iloc[:num_header_rows]\n",
    "    headers = headers.fillna('')\n",
    "    combined_headers = headers.apply(lambda x: ' '.join(x.astype(str)).strip(), axis=0)\n",
    "    combined_headers = [\n",
    "        f\"{original} {combined}\".strip() if original != 'nan' else combined\n",
    "        for original, combined in zip(original_headers, combined_headers)\n",
    "    ]\n",
    "    \n",
    "    filtered_columns = [\n",
    "        col for col in combined_headers if col.strip() and not col.strip().startswith('Unnamed')\n",
    "    ]\n",
    "    \n",
    "    table_df = table_df.loc[:, [col in filtered_columns for col in combined_headers]]\n",
    "    table_df.columns = [\n",
    "        col for col in combined_headers if col in filtered_columns\n",
    "    ]\n",
    "    table_df = table_df.drop(range(num_header_rows)).reset_index(drop=True)\n",
    "    if handle_merged_columns:\n",
    "        table_df.rename(\n",
    "            columns={\n",
    "                'U.S. Capital Commercial Markets Banking and Direct and Wealth Financial Management Services': \n",
    "                'U.S. Commercial Banking and Wealth Management',\n",
    "                'New U.S. Capital Commercial Markets Banking and Direct and Wealth Financial Management Services': \n",
    "                'Capital Markets and Direct Financial Services'\n",
    "            },\n",
    "            inplace=True\n",
    "        )\n",
    "        table_df = format_columns(table_df)\n",
    "    \n",
    "    for col in table_df.columns[1:]: \n",
    "        table_df[col] = table_df[col].astype(str).str.replace(',', '', regex=False)\n",
    "        table_df[col] = table_df[col].str.replace('(', '-', regex=False)\n",
    "        table_df[col] = table_df[col].str.replace(')', '', regex=False)\n",
    "        table_df[col] = table_df[col].str.replace('$', '', regex=False)\n",
    "    \n",
    "    for col in table_df.columns[1:]:  \n",
    "        table_df[col] = pd.to_numeric(table_df[col], errors='coerce')\n",
    "    \n",
    "    return table_df"
   ]
  },
  {
   "cell_type": "code",
   "execution_count": 446,
   "id": "6797dfbc-d47f-4ab9-8d3d-7e37d932d487",
   "metadata": {},
   "outputs": [],
   "source": [
    "def melt_table_with_descriptive_text(table_df):\n",
    "    if table_df.empty:\n",
    "        raise ValueError(\"The input DataFrame is empty.\")\n",
    "    \n",
    "    melted_df = pd.melt(\n",
    "        table_df, \n",
    "        id_vars=[table_df.columns[0]],\n",
    "        var_name='header', \n",
    "        value_name='value'\n",
    "    )\n",
    "    \n",
    "    melted_df['text'] = melted_df['header'] + \" - \" + melted_df[table_df.columns[0]]\n",
    "    melted_df = melted_df[['text', 'value']]\n",
    "    \n",
    "    return melted_df"
   ]
  },
  {
   "cell_type": "code",
   "execution_count": 447,
   "id": "b9522c39-fb6c-44e4-b4e1-7c43d25b50b1",
   "metadata": {},
   "outputs": [],
   "source": [
    "def merge_matching_rows(df, phrases, primary_phrase, third_row_value_index=2):\n",
    "    matching_rows = df[df['text'].isin(phrases)].copy() \n",
    "    matching_rows.loc[:, 'text'] = matching_rows['text'].apply(\n",
    "        lambda x: x.replace(f\"{primary_phrase} - \", \"\") if x != phrases[0] else x\n",
    "    )\n",
    "    combined_text = ' '.join(matching_rows['text'].unique()) \n",
    "    if matching_rows['value'].notna().any():\n",
    "        combined_value = matching_rows['value'].iloc[third_row_value_index]\n",
    "    else:\n",
    "        combined_value = np.nan \n",
    "    combined_row = pd.DataFrame({'text': [combined_text], 'value': [combined_value]})\n",
    "    updated_df = df[~df['text'].isin(phrases)]\n",
    "    updated_df = pd.concat([updated_df, combined_row], ignore_index=True)\n",
    "\n",
    "    return updated_df"
   ]
  },
  {
   "cell_type": "code",
   "execution_count": 448,
   "id": "c892243c-1e75-4c5a-8082-f06df8cb1428",
   "metadata": {},
   "outputs": [],
   "source": [
    "canadian_personal_phrases = [\n",
    "    \"Canadian Personal and Business Banking - Recovery to income tax that will be eliminated with the substantive\",\n",
    "    \"Canadian Personal and Business Banking - enactment of a Federal proposal to deny the dividends received\",\n",
    "    \"Canadian Personal and Business Banking - deduction for banks (2)\"\n",
    "]\n",
    "\n",
    "capital_markets_phrases = [\n",
    "    \"Capital Markets and Direct Financial Services - Recovery to income tax that will be eliminated with the substantive\",\n",
    "    \"Capital Markets and Direct Financial Services - enactment of a Federal proposal to deny the dividends received\",\n",
    "    \"Capital Markets and Direct Financial Services - deduction for banks (2)\",\n",
    "]\n",
    "\n",
    "canadian_commercial_phrases = [\n",
    "    \"Canadian Commercial Banking and Wealth Management - Recovery to income tax that will be eliminated with the substantive\",\n",
    "    \"Canadian Commercial Banking and Wealth Management - enactment of a Federal proposal to deny the dividends received\",\n",
    "    \"Canadian Commercial Banking and Wealth Management - deduction for banks (2)\",\n",
    "]\n",
    "\n",
    "us_commercial_phrases = [\n",
    "    \"U.S. Commercial Banking and Wealth Management - Recovery to income tax that will be eliminated with the substantive\",\n",
    "    \"U.S. Commercial Banking and Wealth Management - enactment of a Federal proposal to deny the dividends received\",\n",
    "    \"U.S. Commercial Banking and Wealth Management - deduction for banks (2)\",\n",
    "]\n",
    "\n",
    "corporate_other_phrases = [\n",
    "    \"Corporate and Other - Recovery to income tax that will be eliminated with the substantive\",\n",
    "    \"Corporate and Other - enactment of a Federal proposal to deny the dividends received\",\n",
    "    \"Corporate and Other - deduction for banks (2)\",\n",
    "]\n",
    "\n",
    "cibc_total_phrases = [\n",
    "    \"CIBC Total - Recovery to income tax that will be eliminated with the substantive\",\n",
    "    \"CIBC Total - enactment of a Federal proposal to deny the dividends received\",\n",
    "    \"CIBC Total - deduction for banks (2)\",\n",
    "]\n",
    "\n",
    "commercial_banking_phrases = [\n",
    "    \"Commercial Banking and Wealth Management (US$ millions) - Recovery to income tax that will be eliminated with the substantive\",\n",
    "    \"Commercial Banking and Wealth Management (US$ millions) - enactment of a Federal proposal to deny the dividends received\",\n",
    "    \"Commercial Banking and Wealth Management (US$ millions) - deduction for banks (2)\",\n",
    "]\n",
    "\n",
    "phrases_list = [canadian_personal_phrases, capital_markets_phrases, canadian_commercial_phrases, us_commercial_phrases, corporate_other_phrases, cibc_total_phrases, commercial_banking_phrases]\n",
    "primary_phrase_list = [\"Canadian Personal and Business Banking\", \"Capital Markets and Direct Financial Services\", \"Canadian Commercial Banking and Wealth Management\",\n",
    "                      \"U.S. Commercial Banking and Wealth Management\", \"Corporate and Other\", \"CIBC Total\", \"Commercial Banking and Wealth Management (US$ millions)\"]"
   ]
  },
  {
   "cell_type": "code",
   "execution_count": 449,
   "id": "379f7bf7-368f-4331-923b-7c2e5ea689c8",
   "metadata": {},
   "outputs": [],
   "source": [
    "canadian_personal_phrases = [ \"Canadian Personal and Business Banking - Commodity tax charge related to the retroactive impact of the 2023\",\n",
    "    \"Canadian Personal and Business Banking - Canadian Federal budget\"\n",
    "]\n",
    "\n",
    "capital_markets_phrases = [ \"Capital Markets and Direct Financial Services - Commodity tax charge related to the retroactive impact of the 2023\",\n",
    "    \"Capital Markets and Direct Financial Services - Canadian Federal budget\"\n",
    "]\n",
    "\n",
    "canadian_commercial_phrases = [ \"Canadian Commercial Banking and Wealth Management - Commodity tax charge related to the retroactive impact of the 2023\",\n",
    "    \"Canadian Commercial Banking and Wealth Management - Canadian Federal budget\"\n",
    "]\n",
    "\n",
    "us_commercial_phrases = [ \"U.S. Commercial Banking and Wealth Management - Commodity tax charge related to the retroactive impact of the 2023\",\n",
    "    \"U.S. Commercial Banking and Wealth Management - Canadian Federal budget\"\n",
    "]\n",
    "\n",
    "corporate_other_phrases = [ \"Corporate and Other - Commodity tax charge related to the retroactive impact of the 2023\",\n",
    "    \"Corporate and Other - Canadian Federal budget\"\n",
    "]\n",
    "\n",
    "cibc_total_phrases = [ \"CIBC Total - Commodity tax charge related to the retroactive impact of the 2023\",\n",
    "    \"CIBC Total - Canadian Federal budget\"\n",
    "]\n",
    "\n",
    "commercial_banking_phrases = [ \"Commercial Banking and Wealth Management (US$ millions) - Commodity tax charge related to the retroactive impact of the 2023\",\n",
    "    \"Commercial Banking and Wealth Management (US$ millions) - Canadian Federal budget\"\n",
    "]\n",
    "\n",
    "q3_phrases_list = [canadian_personal_phrases, capital_markets_phrases, canadian_commercial_phrases, us_commercial_phrases, corporate_other_phrases, cibc_total_phrases, commercial_banking_phrases]\n",
    "q3_primary_phrase_list = [\"Canadian Personal and Business Banking\", \"Capital Markets and Direct Financial Services\", \"Canadian Commercial Banking and Wealth Management\",\n",
    "                      \"U.S. Commercial Banking and Wealth Management\", \"Corporate and Other\", \"CIBC Total\", \"Commercial Banking and Wealth Management (US$ millions)\"]"
   ]
  },
  {
   "cell_type": "markdown",
   "id": "7d3e90fa-d9df-4b3d-991b-dbefeb457f34",
   "metadata": {},
   "source": [
    "## Last Page"
   ]
  },
  {
   "cell_type": "code",
   "execution_count": 450,
   "id": "b64d0cbe-8665-4a13-b1c2-c8ab9d3e2e03",
   "metadata": {},
   "outputs": [],
   "source": [
    "def process_table_headers_and_dates_for_last_page(table_df, num_header_rows=4):\n",
    "    original_headers = table_df.columns.astype(str).fillna('')\n",
    "    headers = table_df.iloc[:num_header_rows].fillna('')\n",
    "    combined_headers = headers.apply(lambda x: ' '.join(x.astype(str)).strip(), axis=0)\n",
    "    combined_headers = [\n",
    "        f\"{original} {combined}\".strip() if original != 'nan' else combined\n",
    "        for original, combined in zip(original_headers, combined_headers)\n",
    "    ]\n",
    "    table_df.columns = combined_headers\n",
    "    table_df = table_df.drop(range(num_header_rows)).reset_index(drop=True)\n",
    "\n",
    "    filtered_columns = [\n",
    "        col for col in table_df.columns if col.strip() and not col.strip().startswith('Unnamed')\n",
    "    ]\n",
    "    table_df = table_df.loc[:, filtered_columns]\n",
    "    \n",
    "    table_df['Year'] = table_df.iloc[:, 0].str.extract(r'(\\d{4})') \n",
    "    table_df['Year'] = table_df['Year'].fillna(method='ffill') \n",
    "    table_df['Month_Day'] = table_df.iloc[:, 0].str.extract(r'([A-Za-z]+\\.? \\d{1,2})')\n",
    "    table_df['Date'] = (table_df['Year'] + ' ' + table_df['Month_Day']).str.strip() \n",
    "    \n",
    "    table_df.iloc[:, 0] = table_df.iloc[:, 0].str.replace(r'(\\d{4})', '', regex=True)\n",
    "    table_df.iloc[:, 0] = table_df.iloc[:, 0].str.replace(r'([A-Za-z]+\\.? \\d{1,2})', '', regex=True) \n",
    "    table_df.iloc[:, 0] = table_df.iloc[:, 0].str.strip()\n",
    "    \n",
    "    table_df.drop(columns=['Year', 'Month_Day'], inplace=True)\n",
    "\n",
    "    for col in table_df.columns[1:]: \n",
    "        if col != 'Date': \n",
    "            table_df[col] = table_df[col].astype(str).str.replace(',', '', regex=False)\n",
    "            table_df[col] = table_df[col].str.replace('(', '-', regex=False)\n",
    "            table_df[col] = table_df[col].str.replace(')', '', regex=False)\n",
    "            table_df[col] = table_df[col].str.replace('$', '', regex=False)\n",
    "            table_df[col] = pd.to_numeric(table_df[col], errors='coerce')\n",
    "\n",
    "    return table_df\n"
   ]
  },
  {
   "cell_type": "code",
   "execution_count": 451,
   "id": "8c6e4ef1-72d9-4137-b0f3-2faf5935596f",
   "metadata": {},
   "outputs": [],
   "source": [
    "def process_and_melt_table_with_date(table_df, date_column='Date', date_replacements=None):\n",
    "    if table_df.empty:\n",
    "        raise ValueError(\"The input DataFrame is empty.\")\n",
    "\n",
    "    if date_column not in table_df.columns:\n",
    "        raise ValueError(f\"The specified date column '{date_column}' does not exist in the DataFrame.\")\n",
    "\n",
    "    melted_df = pd.melt(\n",
    "        table_df,\n",
    "        id_vars=[table_df.columns[0], date_column],\n",
    "        var_name='header',\n",
    "        value_name='value'\n",
    "    )\n",
    "    \n",
    "    melted_df['text'] = melted_df['header'] + \" - \" + melted_df[table_df.columns[0]]\n",
    "    melted_df = melted_df[['Date', 'text', 'value']]\n",
    "    if date_replacements:\n",
    "        melted_df['Date'] = melted_df['Date'].replace(date_replacements)\n",
    "\n",
    "    rows = len(melted_df)\n",
    "    for i in range(rows):\n",
    "        if i == 0 and pd.isna(melted_df.loc[i, date_column]):\n",
    "            melted_df.loc[i, date_column] = melted_df.loc[i + 1, date_column]\n",
    "        \n",
    "        elif pd.isna(melted_df.loc[i, date_column]):\n",
    "            if i == rows - 1:\n",
    "                melted_df.loc[i, date_column] = melted_df.loc[i - 1, date_column]\n",
    "            elif not pd.isna(melted_df.loc[i + 1, date_column]):\n",
    "                melted_df.loc[i, date_column] = melted_df.loc[i + 1, date_column]\n",
    "            else:\n",
    "                melted_df.loc[i, date_column] = melted_df.loc[i - 1, date_column]\n",
    "    melted_df['text'] =  melted_df['text'] + \" - \" + melted_df['Date'] \n",
    "\n",
    "    melted_df.drop(columns = 'Date', inplace = True)\n",
    "\n",
    "    return melted_df"
   ]
  },
  {
   "cell_type": "markdown",
   "id": "21ff5617-50dd-49e6-bc4b-b4ef01fb13ad",
   "metadata": {},
   "source": [
    "# 2024"
   ]
  },
  {
   "cell_type": "markdown",
   "id": "48ac0a28-4ced-4405-a97c-bb37f0df0772",
   "metadata": {},
   "source": [
    "## Q3 2024"
   ]
  },
  {
   "cell_type": "code",
   "execution_count": 452,
   "id": "6abd70f8-44a8-4bd6-820c-1d204f451ca9",
   "metadata": {},
   "outputs": [],
   "source": [
    "pdf_path = 'q324newsrelease-en.pdf'\n",
    "\n",
    "q324_processed_table_page_1 = extract_table_from_pdf(pdf_path, 1, [155, 20, 290, 576])\n",
    "q324_processed_table_page_3 = extract_table_from_pdf(pdf_path, 3, [210, 20, 610, 800])\n",
    "q324_processed_table_page_4 = extract_table_from_pdf(pdf_path, 4)\n",
    "q324_processed_table_page_5 = extract_table_from_pdf(pdf_path, 5)\n",
    "q324_processed_table_page_6 = extract_table_from_pdf(pdf_path, 6)\n",
    "q324_processed_table_page_7 = extract_table_from_pdf(pdf_path, 7) \n",
    "q324_processed_table_page_8 = extract_table_from_pdf(pdf_path, 8, [70, 20, 420, 800])"
   ]
  },
  {
   "cell_type": "markdown",
   "id": "1be1bbfb-04f5-4b11-8c21-7c6effa9af9d",
   "metadata": {},
   "source": [
    "### Q3 2024 - Page 1"
   ]
  },
  {
   "cell_type": "code",
   "execution_count": 453,
   "id": "e175168e-4d8a-4cbf-835b-903ababc5db2",
   "metadata": {},
   "outputs": [
    {
     "name": "stderr",
     "output_type": "stream",
     "text": [
      "C:\\Users\\MIS\\AppData\\Local\\Temp\\ipykernel_2892\\1073757183.py:4: FutureWarning: DataFrame.applymap has been deprecated. Use DataFrame.map instead.\n",
      "  table = table.applymap(lambda x: x if not isinstance(x, list) else ', '.join(map(str, x)))\n"
     ]
    }
   ],
   "source": [
    "column_renames = {\n",
    "    'Q3/24': 'Q3 2024',\n",
    "    'Q3/23 (1)': 'Q3 2023',\n",
    "    'Q2/24': 'Q2 2024',\n",
    "    '1': 'text',\n",
    "    '5': 'YoY Variance',\n",
    "    '6': 'QoQ Variance',\n",
    "}\n",
    "\n",
    "q324_processed_table_page_1 = raname_page1_columns(\n",
    "    table_df=q324_processed_table_page_1,\n",
    "    column_renames=column_renames,\n",
    "    unnamed_column_start=1\n",
    ")\n",
    "\n",
    "q324_processed_df_page_1 = process_and_unpivot_table_p1(q324_processed_table_page_1)"
   ]
  },
  {
   "cell_type": "markdown",
   "id": "039fbbc2-57fa-4853-adbd-9d0025e94d2f",
   "metadata": {},
   "source": [
    "### Q3 2024 - Page 3 to 7"
   ]
  },
  {
   "cell_type": "code",
   "execution_count": 454,
   "id": "1532f180-ff9c-43d4-82c7-638680993dcf",
   "metadata": {},
   "outputs": [],
   "source": [
    "canadian_personal_phrases = [ \"Canadian Personal and Business Banking - Adjustments related to enactment of a Federal tax measure in June\",\n",
    "    \"Canadian Personal and Business Banking - 2024 that denies the dividends received deduction for banks (2)\"\n",
    "]\n",
    "\n",
    "capital_markets_phrases = [ \"Capital Markets and Direct Financial Services - Adjustments related to enactment of a Federal tax measure in June\",\n",
    "    \"Capital Markets and Direct Financial Services - 2024 that denies the dividends received deduction for banks (2)\"\n",
    "]\n",
    "\n",
    "canadian_commercial_phrases = [ \"Canadian Commercial Banking and Wealth Management - Adjustments related to enactment of a Federal tax measure in June\",\n",
    "    \"Canadian Commercial Banking and Wealth Management - 2024 that denies the dividends received deduction for banks (2)\"\n",
    "]\n",
    "\n",
    "us_commercial_phrases = [ \"U.S. Commercial Banking and Wealth Management - Adjustments related to enactment of a Federal tax measure in June\",\n",
    "    \"U.S. Commercial Banking and Wealth Management - 2024 that denies the dividends received deduction for banks (2)\"\n",
    "]\n",
    "\n",
    "corporate_other_phrases = [ \"Corporate and Other - Adjustments related to enactment of a Federal tax measure in June\",\n",
    "    \"Corporate and Other - 2024 that denies the dividends received deduction for banks (2)\"\n",
    "]\n",
    "\n",
    "cibc_total_phrases = [ \"CIBC Total - Adjustments related to enactment of a Federal tax measure in June\",\n",
    "    \"CIBC Total - 2024 that denies the dividends received deduction for banks (2)\"\n",
    "]\n",
    "\n",
    "commercial_banking_phrases = [ \"Commercial Banking and Wealth Management (US$ millions) - Adjustments related to enactment of a Federal tax measure in June\",\n",
    "    \"Commercial Banking and Wealth Management (US$ millions) - 2024 that denies the dividends received deduction for banks (2)\"\n",
    "]\n",
    "\n",
    "phrases_list_p3_p6 = [canadian_personal_phrases, capital_markets_phrases, canadian_commercial_phrases, us_commercial_phrases, \n",
    "                   corporate_other_phrases, cibc_total_phrases, commercial_banking_phrases]\n",
    "\n",
    "primary_phrase_list_p3_p6 = [\"Canadian Personal and Business Banking\", \"Capital Markets and Direct Financial Services\", \n",
    "                          \"Canadian Commercial Banking and Wealth Management\", \"U.S. Commercial Banking and Wealth Management\",\n",
    "                          \"Corporate and Other\", \"CIBC Total\", \"Commercial Banking and Wealth Management (US$ millions)\"]"
   ]
  },
  {
   "cell_type": "code",
   "execution_count": 455,
   "id": "fe8ab85f-e501-4cd7-9ab3-1b64f8be1bd5",
   "metadata": {},
   "outputs": [],
   "source": [
    "q324_processed_table_page_3 = split_merged_columns(q324_processed_table_page_3, column_index=3)\n",
    "q324_processed_table_page_6 = split_merged_columns(q324_processed_table_page_6, column_index=3)\n",
    "\n",
    "q324_processed_df_page_3 = process_table_headers_and_convert(q324_processed_table_page_3, num_header_rows=4, handle_merged_columns=True)\n",
    "q324_processed_df_page_4 = process_table_headers_and_convert(q324_processed_table_page_4, num_header_rows=4)\n",
    "q324_processed_df_page_5 = process_table_headers_and_convert(q324_processed_table_page_5, num_header_rows=4)\n",
    "q324_processed_df_page_6 = process_table_headers_and_convert(q324_processed_table_page_6, num_header_rows=4, handle_merged_columns=True)\n",
    "q324_processed_df_page_7 = process_table_headers_and_convert(q324_processed_table_page_7, num_header_rows=4)\n",
    "\n",
    "q324_processed_df_page_3 = melt_table_with_descriptive_text(q324_processed_df_page_3)\n",
    "q324_processed_df_page_4 = melt_table_with_descriptive_text(q324_processed_df_page_4)\n",
    "q324_processed_df_page_5 = melt_table_with_descriptive_text(q324_processed_df_page_5)\n",
    "q324_processed_df_page_6 = melt_table_with_descriptive_text(q324_processed_df_page_6)\n",
    "q324_processed_df_page_7 = melt_table_with_descriptive_text(q324_processed_df_page_7)\n",
    "\n",
    "for phrase, primary_phrase in zip(phrases_list, primary_phrase_list):\n",
    "    q324_processed_df_page_4 = merge_matching_rows(q324_processed_df_page_4, phrase, primary_phrase=primary_phrase)\n",
    "\n",
    "for phrase, primary_phrase in zip(phrases_list_p3_p6, primary_phrase_list_p3_p6):\n",
    "    q324_processed_df_page_3 = merge_matching_rows(q324_processed_df_page_3, phrase, primary_phrase=primary_phrase)\n",
    "    q324_processed_df_page_6= merge_matching_rows(q324_processed_df_page_6, phrase, primary_phrase=primary_phrase)\n",
    "\n",
    "for phrase, primary_phrase in zip(q3_phrases_list, q3_primary_phrase_list):\n",
    "    q324_processed_df_page_5 = merge_matching_rows(q324_processed_df_page_5, phrase, primary_phrase=primary_phrase)\n",
    "    q324_processed_df_page_7= merge_matching_rows(q324_processed_df_page_7, phrase, primary_phrase=primary_phrase)\n",
    "\n",
    "q324_processed_df_page_3['text'] = q324_processed_df_page_3['text'].astype(str) + 'Q3 2024 three months end'\n",
    "q324_processed_df_page_4['text'] = q324_processed_df_page_4['text'].astype(str) + 'Q2 2024 three months end'\n",
    "q324_processed_df_page_5['text'] = q324_processed_df_page_5['text'].astype(str) + 'Q3 2023 three months end'\n",
    "q324_processed_df_page_6['text'] = q324_processed_df_page_6['text'].astype(str) + 'Q3 2024 nine months end'\n",
    "q324_processed_df_page_7['text'] = q324_processed_df_page_7['text'].astype(str) + 'Q3 2023 nine months end'"
   ]
  },
  {
   "cell_type": "markdown",
   "id": "d65bbca4-301b-47a7-8bd8-d0693a573d6b",
   "metadata": {},
   "source": [
    "### Q3 2024 - Page 8"
   ]
  },
  {
   "cell_type": "code",
   "execution_count": 456,
   "id": "b0cbcd3b-6c4b-4eff-8c63-3aa19d79ac42",
   "metadata": {},
   "outputs": [
    {
     "name": "stderr",
     "output_type": "stream",
     "text": [
      "C:\\Users\\MIS\\AppData\\Local\\Temp\\ipykernel_2892\\2005604776.py:18: FutureWarning: Series.fillna with 'method' is deprecated and will raise in a future version. Use obj.ffill() or obj.bfill() instead.\n",
      "  table_df['Year'] = table_df['Year'].fillna(method='ffill')\n"
     ]
    }
   ],
   "source": [
    "q324_processed_df_page_8 = process_table_headers_and_dates_for_last_page(q324_processed_table_page_8, num_header_rows=4)\n",
    "\n",
    "date_replacements = {\n",
    "    'nan': np.nan,  \n",
    "    '2024 Jul. 31': 'Q3 2024',\n",
    "    '2024 Apr. 30': 'Q2 2024',\n",
    "    '2023 Jul. 31': 'Q3 2023',\n",
    "}\n",
    "\n",
    "q324_processed_df_page_8 = process_and_melt_table_with_date(\n",
    "    table_df=q324_processed_df_page_8,\n",
    "    date_column='Date',\n",
    "    date_replacements=date_replacements\n",
    ")"
   ]
  },
  {
   "cell_type": "markdown",
   "id": "3ff0a067-752e-496b-8ec1-d648188170e7",
   "metadata": {},
   "source": [
    "### Merging the final test df"
   ]
  },
  {
   "cell_type": "code",
   "execution_count": 457,
   "id": "8c208dcb-150d-4ba6-b6f9-ded44b9c56de",
   "metadata": {},
   "outputs": [
    {
     "name": "stdout",
     "output_type": "stream",
     "text": [
      "Combined test_df_q32024 shape: (1568, 2)\n"
     ]
    }
   ],
   "source": [
    "\n",
    "\n",
    "dataframes_test = [\n",
    "    q324_processed_df_page_1,\n",
    "    q324_processed_df_page_3,\n",
    "    q324_processed_df_page_4,\n",
    "    q324_processed_df_page_5,\n",
    "    q324_processed_df_page_6,\n",
    "    q324_processed_df_page_7,\n",
    "    q324_processed_df_page_8\n",
    "]\n",
    "\n",
    "def format_column_names(df_list):\n",
    "    for df in df_list:\n",
    "        df.columns = df.columns.str.strip().str.lower()\n",
    "\n",
    "format_column_names(dataframes_test)\n",
    "test_df_q32024 = pd.concat(dataframes_test, ignore_index=True)\n",
    "print(\"Combined test_df_q32024 shape:\", test_df_q32024.shape)\n"
   ]
  },
  {
   "cell_type": "code",
   "execution_count": 458,
   "id": "1955d70e-3c3f-4daa-9e33-88fd02224560",
   "metadata": {},
   "outputs": [
    {
     "data": {
      "text/html": [
       "<div>\n",
       "<style scoped>\n",
       "    .dataframe tbody tr th:only-of-type {\n",
       "        vertical-align: middle;\n",
       "    }\n",
       "\n",
       "    .dataframe tbody tr th {\n",
       "        vertical-align: top;\n",
       "    }\n",
       "\n",
       "    .dataframe thead th {\n",
       "        text-align: right;\n",
       "    }\n",
       "</style>\n",
       "<table border=\"1\" class=\"dataframe\">\n",
       "  <thead>\n",
       "    <tr style=\"text-align: right;\">\n",
       "      <th></th>\n",
       "      <th>text</th>\n",
       "      <th>value</th>\n",
       "    </tr>\n",
       "  </thead>\n",
       "  <tbody>\n",
       "    <tr>\n",
       "      <th>0</th>\n",
       "      <td>Revenue - Q3 2024</td>\n",
       "      <td>6604.00</td>\n",
       "    </tr>\n",
       "    <tr>\n",
       "      <th>1</th>\n",
       "      <td>Reported Net Income - Q3 2024</td>\n",
       "      <td>1795.00</td>\n",
       "    </tr>\n",
       "    <tr>\n",
       "      <th>2</th>\n",
       "      <td>Adjusted Net Income (2) - Q3 2024</td>\n",
       "      <td>1895.00</td>\n",
       "    </tr>\n",
       "    <tr>\n",
       "      <th>3</th>\n",
       "      <td>Adjusted pre-provision, pre-tax earnings (2) -...</td>\n",
       "      <td>2939.00</td>\n",
       "    </tr>\n",
       "    <tr>\n",
       "      <th>4</th>\n",
       "      <td>Reported Diluted Earnings Per Share (EPS) - Q3...</td>\n",
       "      <td>1.82</td>\n",
       "    </tr>\n",
       "    <tr>\n",
       "      <th>...</th>\n",
       "      <td>...</td>\n",
       "      <td>...</td>\n",
       "    </tr>\n",
       "    <tr>\n",
       "      <th>1563</th>\n",
       "      <td>Commercial Banking and Wealth Management (US$ ...</td>\n",
       "      <td>447.00</td>\n",
       "    </tr>\n",
       "    <tr>\n",
       "      <th>1564</th>\n",
       "      <td>Commercial Banking and Wealth Management (US$ ...</td>\n",
       "      <td>8.00</td>\n",
       "    </tr>\n",
       "    <tr>\n",
       "      <th>1565</th>\n",
       "      <td>Commercial Banking and Wealth Management (US$ ...</td>\n",
       "      <td>700.00</td>\n",
       "    </tr>\n",
       "    <tr>\n",
       "      <th>1566</th>\n",
       "      <td>Commercial Banking and Wealth Management (US$ ...</td>\n",
       "      <td>35.00</td>\n",
       "    </tr>\n",
       "    <tr>\n",
       "      <th>1567</th>\n",
       "      <td>Commercial Banking and Wealth Management (US$ ...</td>\n",
       "      <td>735.00</td>\n",
       "    </tr>\n",
       "  </tbody>\n",
       "</table>\n",
       "<p>1568 rows × 2 columns</p>\n",
       "</div>"
      ],
      "text/plain": [
       "                                                   text    value\n",
       "0                                     Revenue - Q3 2024  6604.00\n",
       "1                         Reported Net Income - Q3 2024  1795.00\n",
       "2                     Adjusted Net Income (2) - Q3 2024  1895.00\n",
       "3     Adjusted pre-provision, pre-tax earnings (2) -...  2939.00\n",
       "4     Reported Diluted Earnings Per Share (EPS) - Q3...     1.82\n",
       "...                                                 ...      ...\n",
       "1563  Commercial Banking and Wealth Management (US$ ...   447.00\n",
       "1564  Commercial Banking and Wealth Management (US$ ...     8.00\n",
       "1565  Commercial Banking and Wealth Management (US$ ...   700.00\n",
       "1566  Commercial Banking and Wealth Management (US$ ...    35.00\n",
       "1567  Commercial Banking and Wealth Management (US$ ...   735.00\n",
       "\n",
       "[1568 rows x 2 columns]"
      ]
     },
     "execution_count": 458,
     "metadata": {},
     "output_type": "execute_result"
    }
   ],
   "source": [
    "test_df_q32024"
   ]
  },
  {
   "cell_type": "markdown",
   "id": "94f1b1f7-6bcb-485e-8c20-efd1cadff2d9",
   "metadata": {},
   "source": [
    "## Q2 2024"
   ]
  },
  {
   "cell_type": "markdown",
   "id": "eac613d6-f590-4946-b264-d63455b42353",
   "metadata": {},
   "source": [
    "### Table Extraction"
   ]
  },
  {
   "cell_type": "code",
   "execution_count": 459,
   "id": "49de9e4e-8c58-4310-806c-52e685414fa1",
   "metadata": {},
   "outputs": [],
   "source": [
    "pdf_path = 'q224newsrelease-en.pdf'\n",
    "page_3_area = [300, 20, 610, 800]\n",
    "\n",
    "q224_processed_table_page_1 = extract_table_from_pdf(pdf_path, 1)\n",
    "q224_processed_table_page_3 = extract_table_from_pdf(pdf_path, 3, page_3_area)\n",
    "q224_processed_table_page_4 = extract_table_from_pdf(pdf_path, 4)\n",
    "q224_processed_table_page_5 = extract_table_from_pdf(pdf_path, 5)\n",
    "q224_processed_table_page_6 = extract_table_from_pdf(pdf_path, 6)\n",
    "q224_processed_table_page_7 = extract_table_from_pdf(pdf_path, 7)\n",
    "q224_processed_table_page_8 = extract_table_from_pdf(pdf_path, 8)"
   ]
  },
  {
   "cell_type": "markdown",
   "id": "5d39bdb0-4643-4b2b-a3b8-61cc3c9ce83f",
   "metadata": {},
   "source": [
    "### Q2 2024 - Page 1"
   ]
  },
  {
   "cell_type": "code",
   "execution_count": 460,
   "id": "876299a4-e365-4617-94b9-9ab153eb9836",
   "metadata": {},
   "outputs": [
    {
     "name": "stderr",
     "output_type": "stream",
     "text": [
      "C:\\Users\\MIS\\AppData\\Local\\Temp\\ipykernel_2892\\1073757183.py:4: FutureWarning: DataFrame.applymap has been deprecated. Use DataFrame.map instead.\n",
      "  table = table.applymap(lambda x: x if not isinstance(x, list) else ', '.join(map(str, x)))\n"
     ]
    }
   ],
   "source": [
    "column_renames = {\n",
    "    'Q2/24': 'Q2 2024',\n",
    "    'Q2/23 (1)': 'Q2 2023',\n",
    "    'Q1/24': 'Q1 2024',\n",
    "    '1': 'text',\n",
    "    '5': 'YoY Variance',\n",
    "    '6': 'QoQ Variance',\n",
    "}\n",
    "\n",
    "q224_processed_table_page_1 = raname_page1_columns(\n",
    "    table_df=q224_processed_table_page_1,\n",
    "    column_renames=column_renames,\n",
    "    unnamed_column_start=1\n",
    ")\n",
    "q224_processed_df_page_1 = process_and_unpivot_table_p1(q224_processed_table_page_1)"
   ]
  },
  {
   "cell_type": "markdown",
   "id": "6682ea35-e7a4-4156-b9ad-a1584fdc4942",
   "metadata": {},
   "source": [
    "### Q2 2024 - Page 3 to 7"
   ]
  },
  {
   "cell_type": "code",
   "execution_count": 461,
   "id": "6106784c-47a1-40d1-8ad5-3bd8ff06e033",
   "metadata": {},
   "outputs": [],
   "source": [
    "q224_processed_table_page_3 = split_merged_columns(q224_processed_table_page_3, column_index=3)\n",
    "q224_processed_table_page_6 = split_merged_columns(q224_processed_table_page_6, column_index=3)\n",
    "\n",
    "q224_processed_df_page_3 = process_table_headers_and_convert(q224_processed_table_page_3, num_header_rows=4, handle_merged_columns=True)\n",
    "q224_processed_df_page_4 = process_table_headers_and_convert(q224_processed_table_page_4, num_header_rows=4)\n",
    "q224_processed_df_page_5 = process_table_headers_and_convert(q224_processed_table_page_5, num_header_rows=4)\n",
    "q224_processed_df_page_6 = process_table_headers_and_convert(q224_processed_table_page_6, num_header_rows=4, handle_merged_columns=True)\n",
    "q224_processed_df_page_7 = process_table_headers_and_convert(q224_processed_table_page_7, num_header_rows=4)\n",
    "\n",
    "q224_processed_df_page_3 = melt_table_with_descriptive_text(q224_processed_df_page_3)\n",
    "q224_processed_df_page_4 = melt_table_with_descriptive_text(q224_processed_df_page_4)\n",
    "q224_processed_df_page_5 = melt_table_with_descriptive_text(q224_processed_df_page_5)\n",
    "q224_processed_df_page_6 = melt_table_with_descriptive_text(q224_processed_df_page_6)\n",
    "q224_processed_df_page_7 = melt_table_with_descriptive_text(q224_processed_df_page_7)\n",
    "\n",
    "for phrase, primary_phrase in zip(phrases_list, primary_phrase_list):\n",
    "    q224_processed_df_page_3 = merge_matching_rows(q224_processed_df_page_3, phrase, primary_phrase=primary_phrase)\n",
    "    q224_processed_df_page_4 = merge_matching_rows(q224_processed_df_page_4, phrase, primary_phrase=primary_phrase)\n",
    "    q224_processed_df_page_6 = merge_matching_rows(q224_processed_df_page_6, phrase, primary_phrase=primary_phrase)\n",
    "\n",
    "\n",
    "q224_processed_df_page_3['text'] = q224_processed_df_page_3['text'].astype(str) + 'Q2 2024 three months end'\n",
    "q224_processed_df_page_4['text'] = q224_processed_df_page_4['text'].astype(str) + 'Q1 2024 three months end'\n",
    "q224_processed_df_page_5['text'] = q224_processed_df_page_5['text'].astype(str) + 'Q2 2023 three months end'\n",
    "q224_processed_df_page_6['text'] = q224_processed_df_page_6['text'].astype(str) + 'Q2 2024 six months end'\n",
    "q224_processed_df_page_7['text'] = q224_processed_df_page_7['text'].astype(str) + 'Q2 2023 six months end'"
   ]
  },
  {
   "cell_type": "markdown",
   "id": "82501abb-e052-4e5f-818b-e7e6ac88056b",
   "metadata": {},
   "source": [
    "### Q2 2024 - Page 8"
   ]
  },
  {
   "cell_type": "code",
   "execution_count": 462,
   "id": "a98cfcd1-78a7-4e4f-96b4-c22e5cdfe0d3",
   "metadata": {},
   "outputs": [
    {
     "name": "stderr",
     "output_type": "stream",
     "text": [
      "C:\\Users\\MIS\\AppData\\Local\\Temp\\ipykernel_2892\\2005604776.py:18: FutureWarning: Series.fillna with 'method' is deprecated and will raise in a future version. Use obj.ffill() or obj.bfill() instead.\n",
      "  table_df['Year'] = table_df['Year'].fillna(method='ffill')\n"
     ]
    }
   ],
   "source": [
    "q224_processed_df_page_8 = process_table_headers_and_dates_for_last_page(q224_processed_table_page_8, num_header_rows=4)\n",
    "\n",
    "date_replacements = {\n",
    "    'nan': np.nan, \n",
    "    '2024 Apr. 30': 'Q2 2024',\n",
    "    '2024 Jan. 31': 'Q1 2024',\n",
    "    '2023 Apr. 30': 'Q2 2023'\n",
    "}\n",
    "\n",
    "q224_processed_df_page_8 = process_and_melt_table_with_date(\n",
    "    table_df=q224_processed_df_page_8,\n",
    "    date_column='Date',\n",
    "    date_replacements=date_replacements\n",
    ")"
   ]
  },
  {
   "cell_type": "markdown",
   "id": "f2ccdb94-a1e5-4846-b358-4a33ddd9f6fe",
   "metadata": {},
   "source": [
    "## Q1 2024"
   ]
  },
  {
   "cell_type": "code",
   "execution_count": 463,
   "id": "581f2a9b-f28b-4acf-b597-fc666e2e5c65",
   "metadata": {},
   "outputs": [],
   "source": [
    "pdf_path = 'q124newsrelease-en.pdf' \n",
    "\n",
    "q124_processed_table_page_1 = extract_table_from_pdf(pdf_path, 1, [145, 30, 310, 576])\n",
    "q124_processed_table_page_3 = extract_table_from_pdf(pdf_path, 3, [210, 20, 610, 800])\n",
    "q124_processed_table_page_4 = extract_table_from_pdf(pdf_path, 4, [60, 30, 370, 600])\n",
    "q124_processed_table_page_4_2 = extract_table_from_pdf(pdf_path, 4, [400, 30, 740, 600])\n",
    "q124_processed_table_page_5 = extract_table_from_pdf(pdf_path, 5, [70, 30, 290, 600])"
   ]
  },
  {
   "cell_type": "markdown",
   "id": "947e522d-e865-48d9-895e-5e1122988d54",
   "metadata": {},
   "source": [
    "### Q1 2024 - Page 1"
   ]
  },
  {
   "cell_type": "code",
   "execution_count": 464,
   "id": "0cfb668f-0582-4617-a95c-6ad97a82bf77",
   "metadata": {},
   "outputs": [
    {
     "name": "stderr",
     "output_type": "stream",
     "text": [
      "C:\\Users\\MIS\\AppData\\Local\\Temp\\ipykernel_2892\\1073757183.py:4: FutureWarning: DataFrame.applymap has been deprecated. Use DataFrame.map instead.\n",
      "  table = table.applymap(lambda x: x if not isinstance(x, list) else ', '.join(map(str, x)))\n"
     ]
    }
   ],
   "source": [
    "column_renames = {\n",
    "    'Q1/24': 'Q1 2024',\n",
    "    'Q1/23 (1)\t': 'Q1 2023',\n",
    "    'Q4/23 (1)': 'Q4 2023',\n",
    "    '1': 'text',\n",
    "    '5': 'YoY Variance',\n",
    "    '6': 'QoQ Variance',\n",
    "}\n",
    "\n",
    "q124_processed_table_page_1 = raname_page1_columns(\n",
    "    table_df=q124_processed_table_page_1,\n",
    "    column_renames=column_renames,\n",
    "    unnamed_column_start=1\n",
    ")\n",
    "\n",
    "q124_processed_df_page_1 = process_and_unpivot_table_p1(q124_processed_table_page_1)"
   ]
  },
  {
   "cell_type": "markdown",
   "id": "0879cb8c-70b3-4116-bc98-54189b67adab",
   "metadata": {},
   "source": [
    "### Q1 2024 - Page 3 - 4"
   ]
  },
  {
   "cell_type": "code",
   "execution_count": null,
   "id": "cd5d9155-da76-4e7c-af7f-d9a77edd9503",
   "metadata": {},
   "outputs": [],
   "source": []
  },
  {
   "cell_type": "code",
   "execution_count": 465,
   "id": "1f59818f-d3cd-4010-8953-1d590a27582d",
   "metadata": {},
   "outputs": [],
   "source": [
    "q124_processed_table_page_3 = split_merged_columns(q124_processed_table_page_3, column_index=3)\n",
    "\n",
    "q124_processed_df_page_3 = process_table_headers_and_convert(q124_processed_table_page_3, num_header_rows=4, handle_merged_columns=True)\n",
    "q124_processed_df_page_4 = process_table_headers_and_convert(q124_processed_table_page_4, num_header_rows=4)\n",
    "q124_processed_df_page_4_2 = process_table_headers_and_convert(q124_processed_table_page_5, num_header_rows=4)\n",
    "\n",
    "q124_processed_df_page_3 = melt_table_with_descriptive_text(q124_processed_df_page_3)\n",
    "q124_processed_df_page_4 = melt_table_with_descriptive_text(q124_processed_df_page_4)\n",
    "q124_processed_df_page_4_2 = melt_table_with_descriptive_text(q124_processed_df_page_4_2)\n",
    "\n",
    "q124_processed_df_page_3['text'] = q124_processed_df_page_3['text'].astype(str) + 'Q1 2024 three months end'\n",
    "q124_processed_df_page_4['text'] = q124_processed_df_page_4['text'].astype(str) + 'Q4 2023 three months end'\n",
    "q124_processed_df_page_4_2['text'] = q124_processed_df_page_4_2['text'].astype(str) + 'Q1 2023 three months end'"
   ]
  },
  {
   "cell_type": "markdown",
   "id": "24e6ce86-c26e-4388-992e-68e27b22e528",
   "metadata": {},
   "source": [
    "### Q1 2024 - Page 5"
   ]
  },
  {
   "cell_type": "code",
   "execution_count": 466,
   "id": "3d0e786c-0de1-46fa-aeb1-3b9100177365",
   "metadata": {},
   "outputs": [
    {
     "name": "stderr",
     "output_type": "stream",
     "text": [
      "C:\\Users\\MIS\\AppData\\Local\\Temp\\ipykernel_2892\\2005604776.py:18: FutureWarning: Series.fillna with 'method' is deprecated and will raise in a future version. Use obj.ffill() or obj.bfill() instead.\n",
      "  table_df['Year'] = table_df['Year'].fillna(method='ffill')\n"
     ]
    }
   ],
   "source": [
    "q124_processed_df_page_5 = process_table_headers_and_dates_for_last_page(q124_processed_table_page_5, num_header_rows=4)\n",
    "\n",
    "date_replacements = {\n",
    "    'nan': np.nan,\n",
    "    '2024 Jan. 31': 'Q1 2024',\n",
    "    '2023 Oct. 31': 'Q4 2023',\n",
    "    '2023 Jan. 31': 'Q1 2023'\n",
    "}\n",
    "\n",
    "q124_processed_df_page_5 = process_and_melt_table_with_date(\n",
    "    table_df=q124_processed_df_page_5,\n",
    "    date_column='Date',\n",
    "    date_replacements=date_replacements\n",
    ")"
   ]
  },
  {
   "cell_type": "markdown",
   "id": "3387e25e-69eb-43a2-afc0-bf9c47e9e324",
   "metadata": {},
   "source": [
    "# 2023"
   ]
  },
  {
   "cell_type": "markdown",
   "id": "f910f975-47f9-42af-a6ea-2275212b2f0b",
   "metadata": {},
   "source": [
    "## Q3 2023"
   ]
  },
  {
   "cell_type": "markdown",
   "id": "0a690ae5-1a2e-4dfa-b624-da58673618e1",
   "metadata": {},
   "source": [
    "### Table Extraction"
   ]
  },
  {
   "cell_type": "code",
   "execution_count": 467,
   "id": "c6b5c7b1-e47b-411c-b997-8eaf4eddb0f6",
   "metadata": {},
   "outputs": [],
   "source": [
    "pdf_path = 'q323newsrelease-en.pdf'\n",
    "\n",
    "q323_processed_table_page_1 = extract_table_from_pdf(pdf_path, 1, [155, 20, 290, 576])\n",
    "q323_processed_table_page_3 = extract_table_from_pdf(pdf_path, 3, [210, 20, 610, 800])\n",
    "q323_processed_table_page_4 = extract_table_from_pdf(pdf_path, 4)\n",
    "q323_processed_table_page_5 = extract_table_from_pdf(pdf_path, 5)\n",
    "q323_processed_table_page_6 = extract_table_from_pdf(pdf_path, 6)\n",
    "q323_processed_table_page_7 = extract_table_from_pdf(pdf_path, 7)\n",
    "q323_processed_table_page_8 = extract_table_from_pdf(pdf_path, 8)"
   ]
  },
  {
   "cell_type": "markdown",
   "id": "29396af1-0efa-4e11-9b5a-f6f0e23aabe1",
   "metadata": {},
   "source": [
    "### Q3 2023 - Page 1"
   ]
  },
  {
   "cell_type": "code",
   "execution_count": 468,
   "id": "c7563781-4db4-4ece-b48a-800fee861867",
   "metadata": {},
   "outputs": [
    {
     "name": "stderr",
     "output_type": "stream",
     "text": [
      "C:\\Users\\MIS\\AppData\\Local\\Temp\\ipykernel_2892\\1073757183.py:4: FutureWarning: DataFrame.applymap has been deprecated. Use DataFrame.map instead.\n",
      "  table = table.applymap(lambda x: x if not isinstance(x, list) else ', '.join(map(str, x)))\n"
     ]
    }
   ],
   "source": [
    "column_renames = {\n",
    "    'Q3/23': 'Q3 2023',\n",
    "    'Q3/22': 'Q3 2022',\n",
    "    'Q2/23': 'Q2 2023',\n",
    "    '1': 'text',\n",
    "    '5': 'YoY Variance',\n",
    "    '6': 'QoQ Variance',\n",
    "}\n",
    "\n",
    "q323_processed_table_page_1 = raname_page1_columns(\n",
    "    table_df=q323_processed_table_page_1,\n",
    "    column_renames=column_renames,\n",
    "    unnamed_column_start=1\n",
    ")\n",
    "q323_processed_df_page_1 = process_and_unpivot_table_p1(q323_processed_table_page_1)"
   ]
  },
  {
   "cell_type": "markdown",
   "id": "4c66b112-c490-4cf7-932e-d14963cab74e",
   "metadata": {},
   "source": [
    "### Q3 2023 - Page 3 to 7"
   ]
  },
  {
   "cell_type": "code",
   "execution_count": 469,
   "id": "e59009f6-7f29-4425-93d0-96d3416e9eaf",
   "metadata": {},
   "outputs": [],
   "source": [
    "canadian_personal_phrases = [ \"Canadian Personal and Business Banking - Acquisition and integration-related costs as well as purchase\",\n",
    "    \"Canadian Personal and Business Banking - accounting adjustments (5)\"\n",
    "]\n",
    "\n",
    "capital_markets_phrases = [ \"Capital Markets and Direct Financial Services - Acquisition and integration-related costs as well as purchase\",\n",
    "    \"Capital Markets and Direct Financial Services - accounting adjustments (5)\"\n",
    "]\n",
    "\n",
    "canadian_commercial_phrases = [ \"Canadian Commercial Banking and Wealth Management - Acquisition and integration-related costs as well as purchase\",\n",
    "    \"Canadian Commercial Banking and Wealth Management - accounting adjustments (5)\"\n",
    "]\n",
    "\n",
    "us_commercial_phrases = [ \"U.S. Commercial Banking and Wealth Management - Acquisition and integration-related costs as well as purchase\",\n",
    "    \"U.S. Commercial Banking and Wealth Management - accounting adjustments (5)\"\n",
    "]\n",
    "\n",
    "corporate_other_phrases = [ \"Corporate and Other - Acquisition and integration-related costs as well as purchase\",\n",
    "    \"Corporate and Other - accounting adjustments (5)\"\n",
    "]\n",
    "\n",
    "cibc_total_phrases = [ \"CIBC Total - Acquisition and integration-related costs as well as purchase\",\n",
    "    \"CIBC Total - accounting adjustments (5)\"\n",
    "]\n",
    "\n",
    "commercial_banking_phrases = [ \"Commercial Banking and Wealth Management (US$ millions) - Acquisition and integration-related costs as well as purchase\",\n",
    "    \"Commercial Banking and Wealth Management (US$ millions) - accounting adjustments (5)\"\n",
    "]\n",
    "\n",
    "phrases_list_p5 = [canadian_personal_phrases, capital_markets_phrases, canadian_commercial_phrases, us_commercial_phrases, corporate_other_phrases, cibc_total_phrases, commercial_banking_phrases]\n",
    "primary_phrase_list_p5 = [\"Canadian Personal and Business Banking\", \"Capital Markets and Direct Financial Services\", \"Canadian Commercial Banking and Wealth Management\",\n",
    "                      \"U.S. Commercial Banking and Wealth Management\", \"Corporate and Other\", \"CIBC Total\", \"Commercial Banking and Wealth Management (US$ millions)\"]"
   ]
  },
  {
   "cell_type": "code",
   "execution_count": 470,
   "id": "9d599f63-00ee-49e4-96d9-4e9840c48420",
   "metadata": {},
   "outputs": [],
   "source": [
    "q323_processed_df_page_3 = process_table_headers_and_convert(q323_processed_table_page_3, num_header_rows=4)\n",
    "q323_processed_df_page_4 = process_table_headers_and_convert(q323_processed_table_page_4, num_header_rows=4)\n",
    "q323_processed_df_page_5 = process_table_headers_and_convert(q323_processed_table_page_5, num_header_rows=4)\n",
    "q323_processed_df_page_6 = process_table_headers_and_convert(q323_processed_table_page_6, num_header_rows=4)\n",
    "q323_processed_df_page_7 = process_table_headers_and_convert(q323_processed_table_page_7, num_header_rows=4)\n",
    "\n",
    "q323_processed_df_page_3 = melt_table_with_descriptive_text(q323_processed_df_page_3)\n",
    "q323_processed_df_page_4 = melt_table_with_descriptive_text(q323_processed_df_page_4)\n",
    "q323_processed_df_page_5 = melt_table_with_descriptive_text(q323_processed_df_page_5)\n",
    "q323_processed_df_page_6 = melt_table_with_descriptive_text(q323_processed_df_page_6)\n",
    "q323_processed_df_page_7 = melt_table_with_descriptive_text(q323_processed_df_page_7)\n",
    "\n",
    "for phrase, primary_phrase in zip(q3_phrases_list, q3_primary_phrase_list):\n",
    "    q323_processed_df_page_3 = merge_matching_rows(q323_processed_df_page_3, phrase, primary_phrase=primary_phrase)\n",
    "\n",
    "for phrase, primary_phrase in zip(phrases_list_p5, primary_phrase_list_p5):\n",
    "    q323_processed_df_page_5 = merge_matching_rows(q323_processed_df_page_5, phrase, primary_phrase=primary_phrase)\n",
    "\n",
    "q323_processed_df_page_3['text'] = q323_processed_df_page_3['text'].astype(str) + 'Q3 2023 three months end'\n",
    "q323_processed_df_page_4['text'] = q323_processed_df_page_4['text'].astype(str) + 'Q2 2023 three months end'\n",
    "q323_processed_df_page_5['text'] = q323_processed_df_page_5['text'].astype(str) + 'Q3 2022 three months end'\n",
    "q323_processed_df_page_6['text'] = q323_processed_df_page_6['text'].astype(str) + 'Q3 2023 nine months end'\n",
    "q323_processed_df_page_7['text'] = q323_processed_df_page_7['text'].astype(str) + 'Q3 2022 nine months end'"
   ]
  },
  {
   "cell_type": "markdown",
   "id": "595fcce2-2881-44ee-9098-86eaf339eaae",
   "metadata": {},
   "source": [
    "### Q3 2023 - Page 8"
   ]
  },
  {
   "cell_type": "code",
   "execution_count": 471,
   "id": "e8b82ae4-3ea6-423c-bf79-755c45e80d08",
   "metadata": {},
   "outputs": [
    {
     "name": "stderr",
     "output_type": "stream",
     "text": [
      "C:\\Users\\MIS\\AppData\\Local\\Temp\\ipykernel_2892\\2005604776.py:18: FutureWarning: Series.fillna with 'method' is deprecated and will raise in a future version. Use obj.ffill() or obj.bfill() instead.\n",
      "  table_df['Year'] = table_df['Year'].fillna(method='ffill')\n"
     ]
    }
   ],
   "source": [
    "q323_processed_df_page_8 = process_table_headers_and_dates_for_last_page(q323_processed_table_page_8, num_header_rows=4)\n",
    "\n",
    "date_replacements = {\n",
    "    'nan': np.nan, \n",
    "    '2023 Jul. 31': 'Q3 2023',\n",
    "    '2023 Apr. 30': 'Q2 2023',\n",
    "    '2022 Jul. 31': 'Q3 2022',\n",
    "}\n",
    "\n",
    "q323_processed_df_page_8 = process_and_melt_table_with_date(\n",
    "    table_df=q323_processed_df_page_8,\n",
    "    date_column='Date',\n",
    "    date_replacements=date_replacements\n",
    ")"
   ]
  },
  {
   "cell_type": "markdown",
   "id": "907e824b-62cc-4877-9dc0-ac7773bc9dd3",
   "metadata": {},
   "source": [
    "## Q2 2023"
   ]
  },
  {
   "cell_type": "code",
   "execution_count": 472,
   "id": "706966f0-5ae1-40a8-89fb-6a7d8159c5cb",
   "metadata": {},
   "outputs": [],
   "source": [
    "pdf_path = 'q223newsrelease-en.pdf'\n",
    "\n",
    "q223_processed_table_page_1 = extract_table_from_pdf(pdf_path, 1, [170, 20, 290, 576])\n",
    "q223_processed_table_page_3 = extract_table_from_pdf(pdf_path, 3, [210, 20, 610, 800])\n",
    "q223_processed_table_page_4 = extract_table_from_pdf(pdf_path, 4)\n",
    "q223_processed_table_page_5 = extract_table_from_pdf(pdf_path, 5)\n",
    "q223_processed_table_page_6 = extract_table_from_pdf(pdf_path, 6)\n",
    "q223_processed_table_page_7 = extract_table_from_pdf(pdf_path, 7)\n",
    "q223_processed_table_page_8 = extract_table_from_pdf(pdf_path, 8,[70, 20, 420, 800])"
   ]
  },
  {
   "cell_type": "markdown",
   "id": "911a334e-ad0f-4cfa-bf5c-207a36267c12",
   "metadata": {},
   "source": [
    "### Q2 2023 - Page 1"
   ]
  },
  {
   "cell_type": "code",
   "execution_count": 473,
   "id": "bf13cf60-b807-411b-a618-77f94756a79d",
   "metadata": {},
   "outputs": [
    {
     "name": "stderr",
     "output_type": "stream",
     "text": [
      "C:\\Users\\MIS\\AppData\\Local\\Temp\\ipykernel_2892\\1073757183.py:4: FutureWarning: DataFrame.applymap has been deprecated. Use DataFrame.map instead.\n",
      "  table = table.applymap(lambda x: x if not isinstance(x, list) else ', '.join(map(str, x)))\n"
     ]
    }
   ],
   "source": [
    "column_renames = {\n",
    "    'Q2/23': 'Q2 2023',\n",
    "    'Q2/22': 'Q2 2022',\n",
    "    'Q1/23': 'Q1 2023',\n",
    "    '1': 'text',\n",
    "    '5': 'YoY Variance',\n",
    "    '6': 'QoQ Variance',\n",
    "}\n",
    "\n",
    "q223_processed_table_page_1 = raname_page1_columns(\n",
    "    table_df=q223_processed_table_page_1,\n",
    "    column_renames=column_renames,\n",
    "    unnamed_column_start=1\n",
    ")\n",
    "q223_processed_df_page_1 = process_and_unpivot_table_p1(q223_processed_table_page_1)"
   ]
  },
  {
   "cell_type": "markdown",
   "id": "8ce3b4d3-985b-471c-8945-dc1fbdad758e",
   "metadata": {},
   "source": [
    "### Q2 2023 - Page 3 to 7"
   ]
  },
  {
   "cell_type": "code",
   "execution_count": 474,
   "id": "0ec897b7-5a9c-42ac-83d9-ec1a0867b1fd",
   "metadata": {},
   "outputs": [],
   "source": [
    "canadian_personal_phrases = [\n",
    "    \"Canadian Personal and Business Banking - Acquisition and integration-related costs as well as purchase\",\n",
    "    \"Canadian Personal and Business Banking - accounting adjustments and provision for credit losses for\",\n",
    "    \"Canadian Personal and Business Banking - deduction for banks (2)\"\n",
    "]\n",
    "\n",
    "capital_markets_phrases = [\n",
    "    \"Capital Markets and Direct Financial Services - Acquisition and integration-related costs as well as purchase\",\n",
    "    \"Capital Markets and Direct Financial Services - accounting adjustments and provision for credit losses for\",\n",
    "    \"Capital Markets and Direct Financial Services - deduction for banks (2)\",\n",
    "]\n",
    "\n",
    "canadian_commercial_phrases = [\n",
    "    \"Canadian Commercial Banking and Wealth Management - Acquisition and integration-related costs as well as purchase\",\n",
    "    \"Canadian Commercial Banking and Wealth Management - accounting adjustments and provision for credit losses for\",\n",
    "    \"Canadian Commercial Banking and Wealth Management - performing loans (6)\",\n",
    "]\n",
    "\n",
    "us_commercial_phrases = [\n",
    "    \"U.S. Commercial Banking and Wealth Management - Acquisition and integration-related costs as well as purchase\",\n",
    "    \"U.S. Commercial Banking and Wealth Management - accounting adjustments and provision for credit losses for\",\n",
    "    \"U.S. Commercial Banking and Wealth Management - performing loans (6)\",\n",
    "]\n",
    "\n",
    "corporate_other_phrases = [\n",
    "    \"Corporate and Other - Acquisition and integration-related costs as well as purchase\",\n",
    "    \"Corporate and Other - accounting adjustments and provision for credit losses for\",\n",
    "    \"Corporate and Other - performing loans (6)\",\n",
    "]\n",
    "\n",
    "cibc_total_phrases = [\n",
    "    \"CIBC Total - Acquisition and integration-related costs as well as purchase\",\n",
    "    \"CIBC Total - accounting adjustments and provision for credit losses for\",\n",
    "    \"CIBC Total - performing loans (6)\",\n",
    "]\n",
    "\n",
    "commercial_banking_phrases = [\n",
    "    \"Commercial Banking and Wealth Management (US$ millions) - Acquisition and integration-related costs as well as purchase\",\n",
    "    \"Commercial Banking and Wealth Management (US$ millions) - accounting adjustments and provision for credit losses for\",\n",
    "    \"Commercial Banking and Wealth Management (US$ millions) - performing loans (6)\",\n",
    "]\n",
    "\n",
    "phrases_list_q223 = [canadian_personal_phrases, capital_markets_phrases, canadian_commercial_phrases, us_commercial_phrases, corporate_other_phrases, cibc_total_phrases, commercial_banking_phrases]\n",
    "primary_phrase_list_q223 = [\"Canadian Personal and Business Banking\", \"Capital Markets and Direct Financial Services\", \"Canadian Commercial Banking and Wealth Management\",\n",
    "                      \"U.S. Commercial Banking and Wealth Management\", \"Corporate and Other\", \"CIBC Total\", \"Commercial Banking and Wealth Management (US$ millions)\"]"
   ]
  },
  {
   "cell_type": "code",
   "execution_count": 475,
   "id": "60f26ca7-83b8-45c4-b6f3-86a41ec65c7b",
   "metadata": {},
   "outputs": [],
   "source": [
    "q223_processed_df_page_3 = process_table_headers_and_convert(q223_processed_table_page_3, num_header_rows=4)\n",
    "q223_processed_df_page_4 = process_table_headers_and_convert(q223_processed_table_page_4, num_header_rows=4)\n",
    "q223_processed_df_page_5 = process_table_headers_and_convert(q223_processed_table_page_5, num_header_rows=4)\n",
    "q223_processed_df_page_6 = process_table_headers_and_convert(q223_processed_table_page_6, num_header_rows=4)\n",
    "q223_processed_df_page_7 = process_table_headers_and_convert(q223_processed_table_page_7, num_header_rows=4)\n",
    "\n",
    "q223_processed_df_page_3 = melt_table_with_descriptive_text(q223_processed_df_page_3)\n",
    "q223_processed_df_page_4 = melt_table_with_descriptive_text(q223_processed_df_page_4)\n",
    "q223_processed_df_page_5 = melt_table_with_descriptive_text(q223_processed_df_page_5)\n",
    "q223_processed_df_page_6 = melt_table_with_descriptive_text(q223_processed_df_page_6)\n",
    "q223_processed_df_page_7 = melt_table_with_descriptive_text(q223_processed_df_page_7)\n",
    "\n",
    "for phrase, primary_phrase in zip(phrases_list_q223, primary_phrase_list_q223):\n",
    "    q223_processed_df_page_5 = merge_matching_rows(q223_processed_df_page_5, phrase, primary_phrase=primary_phrase)\n",
    "\n",
    "for phrase, primary_phrase in zip(phrases_list_q223, primary_phrase_list_q223):\n",
    "    q223_processed_df_page_7 = merge_matching_rows(q223_processed_df_page_7, phrase, primary_phrase=primary_phrase)\n",
    "\n",
    "q223_processed_df_page_3['text'] = q223_processed_df_page_3['text'].astype(str) + 'Q2 2023 three months end'\n",
    "q223_processed_df_page_4['text'] = q223_processed_df_page_4['text'].astype(str) + 'Q1 2023 three months end'\n",
    "q223_processed_df_page_5['text'] = q223_processed_df_page_5['text'].astype(str) + 'Q2 2022 three months end'\n",
    "q223_processed_df_page_6['text'] = q223_processed_df_page_6['text'].astype(str) + 'Q2 2023 six months end'\n",
    "q223_processed_df_page_7['text'] = q223_processed_df_page_7['text'].astype(str) + 'Q2 2022 six months end'"
   ]
  },
  {
   "cell_type": "markdown",
   "id": "e66fedec-5707-4278-9d5c-1640853cc98f",
   "metadata": {},
   "source": [
    "### Q2 2023 - Page 8"
   ]
  },
  {
   "cell_type": "code",
   "execution_count": 476,
   "id": "46f3c2b9-fde1-4f5a-9c02-8765c20236b7",
   "metadata": {},
   "outputs": [
    {
     "name": "stderr",
     "output_type": "stream",
     "text": [
      "C:\\Users\\MIS\\AppData\\Local\\Temp\\ipykernel_2892\\2005604776.py:18: FutureWarning: Series.fillna with 'method' is deprecated and will raise in a future version. Use obj.ffill() or obj.bfill() instead.\n",
      "  table_df['Year'] = table_df['Year'].fillna(method='ffill')\n"
     ]
    }
   ],
   "source": [
    "q223_processed_df_page_8 = process_table_headers_and_dates_for_last_page(q223_processed_table_page_8, num_header_rows=4)\n",
    "\n",
    "date_replacements = {\n",
    "    'nan': np.nan, \n",
    "    '2023 Apr. 30': 'Q2 2023',\n",
    "    '2023 Jan. 31': 'Q1 2023',\n",
    "    '2022 Apr. 31': 'Q2 2022',\n",
    "}\n",
    "\n",
    "q223_processed_df_page_8 = process_and_melt_table_with_date(\n",
    "    table_df=q223_processed_df_page_8,\n",
    "    date_column='Date',\n",
    "    date_replacements=date_replacements\n",
    ")"
   ]
  },
  {
   "cell_type": "markdown",
   "id": "ddfa004f-5870-45ed-99b6-2ac138358675",
   "metadata": {},
   "source": [
    "## Q1 2023"
   ]
  },
  {
   "cell_type": "code",
   "execution_count": 477,
   "id": "90cf65b2-956a-4b2f-8d71-791cf6954dda",
   "metadata": {},
   "outputs": [],
   "source": [
    "pdf_path = 'q123newsrelease-en.pdf'\n",
    "\n",
    "q123_processed_table_page_1 = extract_table_from_pdf(pdf_path, 1, [160, 20, 290, 576])\n",
    "q123_processed_table_page_3 = extract_table_from_pdf(pdf_path, 3, [210, 20, 610, 800])\n",
    "q123_processed_table_page_4 = extract_table_from_pdf(pdf_path, 4)\n",
    "q123_processed_table_page_5 = extract_table_from_pdf(pdf_path, 5, [60, 30, 390, 600])\n",
    "q123_processed_table_page_5_2 = extract_table_from_pdf(pdf_path, 5, [420, 30, 650, 600])"
   ]
  },
  {
   "cell_type": "markdown",
   "id": "b66d8e4d-e039-4620-a63d-542b28855e60",
   "metadata": {},
   "source": [
    "### Q1 2023 - Page 1"
   ]
  },
  {
   "cell_type": "code",
   "execution_count": 478,
   "id": "5c804ce4-de84-4248-bd6d-df7a17a7cb27",
   "metadata": {},
   "outputs": [
    {
     "name": "stderr",
     "output_type": "stream",
     "text": [
      "C:\\Users\\MIS\\AppData\\Local\\Temp\\ipykernel_2892\\1073757183.py:4: FutureWarning: DataFrame.applymap has been deprecated. Use DataFrame.map instead.\n",
      "  table = table.applymap(lambda x: x if not isinstance(x, list) else ', '.join(map(str, x)))\n"
     ]
    }
   ],
   "source": [
    "column_renames = {\n",
    "    'Q1/23': 'Q1 2023',\n",
    "    'Q1/22': 'Q1 2022',\n",
    "    'Q4/22': 'Q4 2022',\n",
    "    '1': 'text',\n",
    "    '5': 'YoY Variance',\n",
    "    '7': 'QoQ Variance',\n",
    "}\n",
    "\n",
    "q123_processed_table_page_1 = raname_page1_columns(\n",
    "    table_df=q123_processed_table_page_1,\n",
    "    column_renames=column_renames,\n",
    "    unnamed_column_start=1\n",
    ")\n",
    "\n",
    "q123_processed_table_page_1.drop(columns='6', inplace = True)\n",
    "q123_processed_df_page_1 = process_and_unpivot_table_p1(q123_processed_table_page_1)"
   ]
  },
  {
   "cell_type": "markdown",
   "id": "ad8a96f4-cffb-442f-86c0-e94187579585",
   "metadata": {},
   "source": [
    "### Q1 2023 - Page 3 to 5(table 1)"
   ]
  },
  {
   "cell_type": "code",
   "execution_count": 479,
   "id": "cfb07b2e-0b27-41d8-b634-6c12ac8d1a6f",
   "metadata": {},
   "outputs": [],
   "source": [
    "canadian_personal_phrases = [ \"Canadian Personal and Business Banking - Acquisition and integration-related costs as well as purchase\",\n",
    "    \"Canadian Personal and Business Banking - accounting adjustments (6)\"\n",
    "]\n",
    "\n",
    "capital_markets_phrases = [ \"Capital Markets and Direct Financial Services - Acquisition and integration-related costs as well as purchase\",\n",
    "    \"Capital Markets and Direct Financial Services - accounting adjustments (6)\"\n",
    "]\n",
    "\n",
    "canadian_commercial_phrases = [ \"Canadian Commercial Banking and Wealth Management - Acquisition and integration-related costs as well as purchase\",\n",
    "    \"Canadian Commercial Banking and Wealth Management - accounting adjustments (6)\"\n",
    "]\n",
    "\n",
    "us_commercial_phrases = [ \"U.S. Commercial Banking and Wealth Management - Acquisition and integration-related costs as well as purchase\",\n",
    "    \"U.S. Commercial Banking and Wealth Management - accounting adjustments (6)\"\n",
    "]\n",
    "\n",
    "corporate_other_phrases = [ \"Corporate and Other - Acquisition and integration-related costs as well as purchase\",\n",
    "    \"Corporate and Other - accounting adjustments (6)\"\n",
    "]\n",
    "\n",
    "cibc_total_phrases = [ \"CIBC Total - Acquisition and integration-related costs as well as purchase\",\n",
    "    \"CIBC Total - accounting adjustments (6)\"\n",
    "]\n",
    "\n",
    "commercial_banking_phrases = [ \"Commercial Banking and Wealth Management (US$ millions) - Acquisition and integration-related costs as well as purchase\",\n",
    "    \"Commercial Banking and Wealth Management (US$ millions) - accounting adjustments (6)\"\n",
    "]\n",
    "\n",
    "phrases_list_p4 = [canadian_personal_phrases, capital_markets_phrases, canadian_commercial_phrases, us_commercial_phrases, corporate_other_phrases, cibc_total_phrases, commercial_banking_phrases]\n",
    "primary_phrase_list_p4 = [\"Canadian Personal and Business Banking\", \"Capital Markets and Direct Financial Services\", \"Canadian Commercial Banking and Wealth Management\",\n",
    "                      \"U.S. Commercial Banking and Wealth Management\", \"Corporate and Other\", \"CIBC Total\", \"Commercial Banking and Wealth Management (US$ millions)\"]"
   ]
  },
  {
   "cell_type": "code",
   "execution_count": 480,
   "id": "941345ae-a022-42f9-b6d5-1873aa7ca572",
   "metadata": {},
   "outputs": [],
   "source": [
    "q123_processed_df_page_3 = process_table_headers_and_convert(q123_processed_table_page_3, num_header_rows=4)\n",
    "q123_processed_df_page_4 = process_table_headers_and_convert(q123_processed_table_page_4, num_header_rows=4)\n",
    "q123_processed_df_page_5 = process_table_headers_and_convert(q123_processed_table_page_5, num_header_rows=4)\n",
    "\n",
    "q123_processed_df_page_3 = melt_table_with_descriptive_text(q123_processed_df_page_3)\n",
    "q123_processed_df_page_4 = melt_table_with_descriptive_text(q123_processed_df_page_4)\n",
    "q123_processed_df_page_5 = melt_table_with_descriptive_text(q123_processed_df_page_5)\n",
    "\n",
    "for phrase, primary_phrase in zip(phrases_list_p4, primary_phrase_list_p4):\n",
    "    q123_processed_df_page_4 = merge_matching_rows(q123_processed_df_page_4, phrase, primary_phrase=primary_phrase)\n",
    "\n",
    "q123_processed_df_page_3['text'] = q123_processed_df_page_3['text'].astype(str) + 'Q1 2023 three months end'\n",
    "q124_processed_df_page_4['text'] = q124_processed_df_page_4['text'].astype(str) + 'Q4 2022 three months end'\n",
    "q124_processed_df_page_5['text'] = q124_processed_df_page_5['text'].astype(str) + 'Q1 2022 three months end'"
   ]
  },
  {
   "cell_type": "markdown",
   "id": "b248e561-3963-4f24-b656-7017312de804",
   "metadata": {},
   "source": [
    "### Q1 2023 - Page 5(table 2)"
   ]
  },
  {
   "cell_type": "code",
   "execution_count": 481,
   "id": "5d0dc057-8e48-4cd7-9815-dfd0a1a1e001",
   "metadata": {},
   "outputs": [
    {
     "name": "stderr",
     "output_type": "stream",
     "text": [
      "C:\\Users\\MIS\\AppData\\Local\\Temp\\ipykernel_2892\\2005604776.py:18: FutureWarning: Series.fillna with 'method' is deprecated and will raise in a future version. Use obj.ffill() or obj.bfill() instead.\n",
      "  table_df['Year'] = table_df['Year'].fillna(method='ffill')\n"
     ]
    }
   ],
   "source": [
    "q123_processed_df_page_5_2 = process_table_headers_and_dates_for_last_page(q123_processed_table_page_5_2, num_header_rows=4)\n",
    "\n",
    "date_replacements = {\n",
    "    'nan': np.nan, \n",
    "    '2023 Jan. 30': 'Q1 2023',\n",
    "    '2023 Oct. 31': 'Q4 2023',\n",
    "    '2022 Jan. 31': 'Q1 2022',\n",
    "}\n",
    "\n",
    "q123_processed_df_page_5_2 = process_and_melt_table_with_date(\n",
    "    table_df=q123_processed_df_page_5_2,\n",
    "    date_column='Date',\n",
    "    date_replacements=date_replacements\n",
    ")"
   ]
  },
  {
   "cell_type": "markdown",
   "id": "53a19ccd-c141-4a58-b357-8c0d1b5c49b5",
   "metadata": {},
   "source": [
    "# Final Table names"
   ]
  },
  {
   "cell_type": "markdown",
   "id": "229f3c08-e673-4848-9b9b-b72d25a7bbbe",
   "metadata": {},
   "source": [
    "# Train data tables\n",
    "q224_processed_df_page_1, \n",
    "q224_processed_df_page_2, \n",
    "q224_processed_df_page_3, \n",
    "q224_processed_df_page_4, \n",
    "q224_processed_df_page_5, \n",
    "q224_processed_df_page_6, \n",
    "q224_processed_df_page_7, \n",
    "q224_processed_df_page_8, \n",
    "q124_processed_df_page_1, \n",
    "q124_processed_df_page_3, \n",
    "q124_processed_df_page_4, \n",
    "q124_processed_df_page_4_2, \n",
    "q124_processed_df_page_5, \n",
    "q323_processed_df_page_1, \n",
    "q323_processed_df_page_3, \n",
    "q323_processed_df_page_4, \n",
    "q323_processed_df_page_5, \n",
    "q323_processed_df_page_6, \n",
    "q323_processed_df_page_7, \n",
    "q323_processed_df_page_8, \n",
    "q223_processed_df_page_1, \n",
    "q223_processed_df_page_3, \n",
    "q223_processed_df_page_4, \n",
    "q223_processed_df_page_5, \n",
    "q223_processed_df_page_6, \n",
    "q223_processed_df_page_7, \n",
    "q223_processed_df_page_8, \n",
    "q123_processed_df_page_1, \n",
    "q123_processed_df_page_2, \n",
    "q123_processed_df_page_3, \n",
    "q123_processed_df_page_4, \n",
    "q123_processed_df_page_5, \n",
    "q123_processed_df_page_5_2\n",
    "\n",
    "\n",
    "# Test Data\n",
    "q324_processed_df_page_1, \n",
    "q324_processed_df_page_3, \n",
    "q324_processed_df_page_4, \n",
    "q324_processed_df_page_5, \n",
    "q324_processed_df_page_6, \n",
    "q324_processed_df_page_7, \n",
    "q324_processed_df_page_8, "
   ]
  },
  {
   "cell_type": "code",
   "execution_count": 482,
   "id": "cb236675-d04f-4293-8f9b-e3e546e2984e",
   "metadata": {},
   "outputs": [
    {
     "name": "stdout",
     "output_type": "stream",
     "text": [
      "Combined train_df shape: (6509, 2)\n"
     ]
    }
   ],
   "source": [
    "def clean_column_names(df_list):\n",
    "    for df in df_list:\n",
    "        df.columns = df.columns.str.strip().str.lower()\n",
    "\n",
    "dataframes = [\n",
    "    q224_processed_df_page_1, q224_processed_df_page_3, q224_processed_df_page_4,\n",
    "    q224_processed_df_page_5, q224_processed_df_page_6, q224_processed_df_page_7, q224_processed_df_page_8,\n",
    "    q124_processed_df_page_1, q124_processed_df_page_3, q124_processed_df_page_4, q124_processed_df_page_4_2,\n",
    "    q124_processed_df_page_5,\n",
    "    q323_processed_df_page_1, q323_processed_df_page_3, q323_processed_df_page_4, q323_processed_df_page_5,\n",
    "    q323_processed_df_page_6, q323_processed_df_page_7, q323_processed_df_page_8,\n",
    "    q223_processed_df_page_1, q223_processed_df_page_3, q223_processed_df_page_4, q223_processed_df_page_5,\n",
    "    q223_processed_df_page_6, q223_processed_df_page_7, q223_processed_df_page_8,\n",
    "    q123_processed_df_page_1, q123_processed_df_page_3, q123_processed_df_page_4,\n",
    "    q123_processed_df_page_5, q123_processed_df_page_5_2\n",
    "]\n",
    "\n",
    "clean_column_names(dataframes)\n",
    "\n",
    "train_df = pd.concat(dataframes, ignore_index=True)\n",
    "print(\"Combined train_df shape:\", train_df.shape)\n"
   ]
  },
  {
   "cell_type": "code",
   "execution_count": 483,
   "id": "7b1a3569-6b42-4cd4-b3d7-f39377d16d3c",
   "metadata": {},
   "outputs": [
    {
     "data": {
      "text/html": [
       "<div>\n",
       "<style scoped>\n",
       "    .dataframe tbody tr th:only-of-type {\n",
       "        vertical-align: middle;\n",
       "    }\n",
       "\n",
       "    .dataframe tbody tr th {\n",
       "        vertical-align: top;\n",
       "    }\n",
       "\n",
       "    .dataframe thead th {\n",
       "        text-align: right;\n",
       "    }\n",
       "</style>\n",
       "<table border=\"1\" class=\"dataframe\">\n",
       "  <thead>\n",
       "    <tr style=\"text-align: right;\">\n",
       "      <th></th>\n",
       "      <th>text</th>\n",
       "      <th>value</th>\n",
       "    </tr>\n",
       "  </thead>\n",
       "  <tbody>\n",
       "    <tr>\n",
       "      <th>0</th>\n",
       "      <td>Revenue - Q3 2024</td>\n",
       "      <td>6604.00</td>\n",
       "    </tr>\n",
       "    <tr>\n",
       "      <th>1</th>\n",
       "      <td>Reported Net Income - Q3 2024</td>\n",
       "      <td>1795.00</td>\n",
       "    </tr>\n",
       "    <tr>\n",
       "      <th>2</th>\n",
       "      <td>Adjusted Net Income (2) - Q3 2024</td>\n",
       "      <td>1895.00</td>\n",
       "    </tr>\n",
       "    <tr>\n",
       "      <th>3</th>\n",
       "      <td>Adjusted pre-provision, pre-tax earnings (2) -...</td>\n",
       "      <td>2939.00</td>\n",
       "    </tr>\n",
       "    <tr>\n",
       "      <th>4</th>\n",
       "      <td>Reported Diluted Earnings Per Share (EPS) - Q3...</td>\n",
       "      <td>1.82</td>\n",
       "    </tr>\n",
       "    <tr>\n",
       "      <th>...</th>\n",
       "      <td>...</td>\n",
       "      <td>...</td>\n",
       "    </tr>\n",
       "    <tr>\n",
       "      <th>1563</th>\n",
       "      <td>Commercial Banking and Wealth Management (US$ ...</td>\n",
       "      <td>447.00</td>\n",
       "    </tr>\n",
       "    <tr>\n",
       "      <th>1564</th>\n",
       "      <td>Commercial Banking and Wealth Management (US$ ...</td>\n",
       "      <td>8.00</td>\n",
       "    </tr>\n",
       "    <tr>\n",
       "      <th>1565</th>\n",
       "      <td>Commercial Banking and Wealth Management (US$ ...</td>\n",
       "      <td>700.00</td>\n",
       "    </tr>\n",
       "    <tr>\n",
       "      <th>1566</th>\n",
       "      <td>Commercial Banking and Wealth Management (US$ ...</td>\n",
       "      <td>35.00</td>\n",
       "    </tr>\n",
       "    <tr>\n",
       "      <th>1567</th>\n",
       "      <td>Commercial Banking and Wealth Management (US$ ...</td>\n",
       "      <td>735.00</td>\n",
       "    </tr>\n",
       "  </tbody>\n",
       "</table>\n",
       "<p>1568 rows × 2 columns</p>\n",
       "</div>"
      ],
      "text/plain": [
       "                                                   text    value\n",
       "0                                     Revenue - Q3 2024  6604.00\n",
       "1                         Reported Net Income - Q3 2024  1795.00\n",
       "2                     Adjusted Net Income (2) - Q3 2024  1895.00\n",
       "3     Adjusted pre-provision, pre-tax earnings (2) -...  2939.00\n",
       "4     Reported Diluted Earnings Per Share (EPS) - Q3...     1.82\n",
       "...                                                 ...      ...\n",
       "1563  Commercial Banking and Wealth Management (US$ ...   447.00\n",
       "1564  Commercial Banking and Wealth Management (US$ ...     8.00\n",
       "1565  Commercial Banking and Wealth Management (US$ ...   700.00\n",
       "1566  Commercial Banking and Wealth Management (US$ ...    35.00\n",
       "1567  Commercial Banking and Wealth Management (US$ ...   735.00\n",
       "\n",
       "[1568 rows x 2 columns]"
      ]
     },
     "execution_count": 483,
     "metadata": {},
     "output_type": "execute_result"
    }
   ],
   "source": [
    "test_df_q32024"
   ]
  },
  {
   "cell_type": "markdown",
   "id": "4d0ca416-7551-4b88-b651-6c76330b2f7d",
   "metadata": {},
   "source": [
    "# Handling Missing Values"
   ]
  },
  {
   "cell_type": "code",
   "execution_count": 484,
   "id": "4e2cdbaa-9ac2-4364-bbbd-7ff9f96ea6be",
   "metadata": {},
   "outputs": [
    {
     "data": {
      "text/plain": [
       "text       21\n",
       "value    2558\n",
       "dtype: int64"
      ]
     },
     "execution_count": 484,
     "metadata": {},
     "output_type": "execute_result"
    }
   ],
   "source": [
    "train_df.isnull().sum()"
   ]
  },
  {
   "cell_type": "code",
   "execution_count": 485,
   "id": "e2920de8-880f-4916-945c-25ad5cf5eb21",
   "metadata": {},
   "outputs": [
    {
     "data": {
      "text/plain": [
       "text       7\n",
       "value    619\n",
       "dtype: int64"
      ]
     },
     "execution_count": 485,
     "metadata": {},
     "output_type": "execute_result"
    }
   ],
   "source": [
    "test_df_q32024.isnull().sum()"
   ]
  },
  {
   "cell_type": "code",
   "execution_count": 486,
   "id": "360e218b-59c6-4ae9-b0b5-ed4864ca92cb",
   "metadata": {},
   "outputs": [],
   "source": [
    "def clean_dataframe_inplace(df):\n",
    "    \n",
    "    df.dropna(inplace=True)\n",
    "    df.drop_duplicates(inplace=True) \n",
    "\n",
    "clean_dataframe_inplace(train_df)\n",
    "clean_dataframe_inplace(test_df_q32024)"
   ]
  },
  {
   "cell_type": "code",
   "execution_count": 487,
   "id": "9fdc79f6-da86-48fe-9d2a-42fc5c88ed2c",
   "metadata": {},
   "outputs": [
    {
     "data": {
      "text/plain": [
       "Index(['text', 'value'], dtype='object')"
      ]
     },
     "execution_count": 487,
     "metadata": {},
     "output_type": "execute_result"
    }
   ],
   "source": [
    "train_df.columns"
   ]
  },
  {
   "cell_type": "code",
   "execution_count": 488,
   "id": "ef905a70-69e2-4f8e-9225-e2e98bece029",
   "metadata": {},
   "outputs": [],
   "source": [
    "train_df['value'] = train_df['value'].astype(float)"
   ]
  },
  {
   "cell_type": "markdown",
   "id": "eb21adef-0d51-4df3-a04f-3be70b399a26",
   "metadata": {},
   "source": [
    "# Text Cleaning"
   ]
  },
  {
   "cell_type": "code",
   "execution_count": 489,
   "id": "636fd946-a056-43b3-8d4f-fb2765eb374c",
   "metadata": {},
   "outputs": [],
   "source": [
    "def clean_text_column(df, column_name):\n",
    "    \n",
    "    def clean_text(text):\n",
    "        text = re.sub(r'\\(.*?\\)', '', text)\n",
    "        text = re.sub(r'[-$]', '', text) \n",
    "        text = text.strip() \n",
    "        return text\n",
    "    df[column_name] = df[column_name].apply(clean_text)\n",
    "    return df\n",
    "\n",
    "train_df = clean_text_column(train_df, 'text')\n",
    "test_df_q32024 = clean_text_column(test_df_q32024, 'text')"
   ]
  },
  {
   "cell_type": "markdown",
   "id": "5d787558-a6f4-45e9-bdd9-52569ffa5138",
   "metadata": {},
   "source": [
    "# Feature Engineering"
   ]
  },
  {
   "cell_type": "code",
   "execution_count": 490,
   "id": "418db254-9c17-4a6e-9f3d-ecd4a3094f00",
   "metadata": {},
   "outputs": [],
   "source": [
    "def process_text_and_extract_features(df, column_name):\n",
    "    def extract_quarter(text):\n",
    "        match = re.search(r'Q([1-4])', text, re.IGNORECASE)\n",
    "        return int(match.group(1)) if match else None\n",
    "\n",
    "    def extract_year(text):\n",
    "        match = re.search(r'\\b(20[0-9]{2})\\b', text)\n",
    "        return int(match.group(1)) if match else None\n",
    "\n",
    "    def clean_text(text):\n",
    "        text = re.sub(r'Q[1-4]', '', text, flags=re.IGNORECASE)\n",
    "        text = re.sub(r'\\b20[0-9]{2}\\b', '', text) \n",
    "        text = re.sub(r'\\s+', ' ', text).strip()\n",
    "        return text\n",
    "\n",
    "    df['quarter'] = df[column_name].apply(extract_quarter)\n",
    "    df['year'] = df[column_name].apply(extract_year)\n",
    "    df[column_name] = df[column_name].apply(clean_text)\n",
    "    return df\n",
    "    \n",
    "train_df = process_text_and_extract_features(train_df, 'text')\n",
    "test_df_q32024 = process_text_and_extract_features(test_df_q32024, 'text')"
   ]
  },
  {
   "cell_type": "code",
   "execution_count": 491,
   "id": "dc667423-9f37-44ba-b2b4-ba1315a3ede8",
   "metadata": {},
   "outputs": [],
   "source": [
    "train_df['quarter'].fillna(0, inplace=True)\n",
    "train_df['year'].fillna(0, inplace=True)\n",
    "\n",
    "test_df_q32024['quarter'].fillna(0, inplace=True)\n",
    "test_df_q32024['year'].fillna(0, inplace=True)\n",
    "\n",
    "train_df['quarter'] = train_df['quarter'].astype(int)\n",
    "train_df['year'] = train_df['year'].astype(int)\n",
    "\n",
    "test_df_q32024['quarter'] = test_df_q32024['quarter'].astype(int)\n",
    "test_df_q32024['year'] = test_df_q32024['year'].astype(int)"
   ]
  },
  {
   "cell_type": "markdown",
   "id": "969148ae-7cf5-46e9-897e-f4b357d7afe3",
   "metadata": {},
   "source": [
    "## outlier analysis for value column"
   ]
  },
  {
   "cell_type": "code",
   "execution_count": 492,
   "id": "4552a14a-23e9-4064-9db7-b419e077fe22",
   "metadata": {},
   "outputs": [
    {
     "data": {
      "image/png": "[encoded data removed]",
      "text/plain": [
       "<Figure size 640x480 with 1 Axes>"
      ]
     },
     "metadata": {},
     "output_type": "display_data"
    }
   ],
   "source": [
    "sns.boxplot(x=train_df['value'])\n",
    "plt.title(\"Boxplot for 'value' column\")\n",
    "plt.show()\n"
   ]
  },
  {
   "cell_type": "markdown",
   "id": "1e14ca4f-72de-4cd4-98ee-97c76f9248c9",
   "metadata": {},
   "source": [
    "As we can see there are many outliears in our targeted column which can affect out model perfomance so we will use standardization"
   ]
  },
  {
   "cell_type": "markdown",
   "id": "d9eac0f9-038e-48e8-b3a2-9969285986d7",
   "metadata": {},
   "source": [
    "# Standardization"
   ]
  },
  {
   "cell_type": "code",
   "execution_count": 493,
   "id": "5af3a209-1c56-4d0b-9b61-9f82cac0e6d3",
   "metadata": {},
   "outputs": [
    {
     "data": {
      "text/plain": [
       "['scaler.joblib']"
      ]
     },
     "execution_count": 493,
     "metadata": {},
     "output_type": "execute_result"
    }
   ],
   "source": [
    "def standardize_data(train_df, test_df, column_to_standardize):\n",
    "    scaler = StandardScaler()\n",
    "    train_df['value_standardized'] = scaler.fit_transform(train_df[[column_to_standardize]])\n",
    "    test_df['value_standardized'] = scaler.transform(test_df[[column_to_standardize]])\n",
    "    return train_df, test_df, scaler\n",
    "\n",
    "train_df, test_df_q32024, scaler_train = standardize_data(train_df, test_df_q32024, 'value')\n",
    "\n",
    "joblib.dump(scaler_train, 'scaler.joblib')  # Save vectors"
   ]
  },
  {
   "cell_type": "code",
   "execution_count": 494,
   "id": "2b4bfc5d-beab-48d3-9182-7f69c3a3edd7",
   "metadata": {},
   "outputs": [
    {
     "data": {
      "text/html": [
       "<div>\n",
       "<style scoped>\n",
       "    .dataframe tbody tr th:only-of-type {\n",
       "        vertical-align: middle;\n",
       "    }\n",
       "\n",
       "    .dataframe tbody tr th {\n",
       "        vertical-align: top;\n",
       "    }\n",
       "\n",
       "    .dataframe thead th {\n",
       "        text-align: right;\n",
       "    }\n",
       "</style>\n",
       "<table border=\"1\" class=\"dataframe\">\n",
       "  <thead>\n",
       "    <tr style=\"text-align: right;\">\n",
       "      <th></th>\n",
       "      <th>text</th>\n",
       "      <th>value</th>\n",
       "      <th>quarter</th>\n",
       "      <th>year</th>\n",
       "      <th>value_standardized</th>\n",
       "    </tr>\n",
       "  </thead>\n",
       "  <tbody>\n",
       "    <tr>\n",
       "      <th>0</th>\n",
       "      <td>Revenue</td>\n",
       "      <td>6164.00</td>\n",
       "      <td>2</td>\n",
       "      <td>2024</td>\n",
       "      <td>3.975117</td>\n",
       "    </tr>\n",
       "    <tr>\n",
       "      <th>1</th>\n",
       "      <td>Reported Net Income</td>\n",
       "      <td>1749.00</td>\n",
       "      <td>2</td>\n",
       "      <td>2024</td>\n",
       "      <td>0.797890</td>\n",
       "    </tr>\n",
       "    <tr>\n",
       "      <th>2</th>\n",
       "      <td>Adjusted Net Income</td>\n",
       "      <td>1718.00</td>\n",
       "      <td>2</td>\n",
       "      <td>2024</td>\n",
       "      <td>0.775581</td>\n",
       "    </tr>\n",
       "    <tr>\n",
       "      <th>3</th>\n",
       "      <td>Adjusted preprovision, pretax earnings</td>\n",
       "      <td>2690.00</td>\n",
       "      <td>2</td>\n",
       "      <td>2024</td>\n",
       "      <td>1.475075</td>\n",
       "    </tr>\n",
       "    <tr>\n",
       "      <th>4</th>\n",
       "      <td>Reported Diluted Earnings Per Share</td>\n",
       "      <td>1.79</td>\n",
       "      <td>2</td>\n",
       "      <td>2024</td>\n",
       "      <td>-0.459478</td>\n",
       "    </tr>\n",
       "    <tr>\n",
       "      <th>...</th>\n",
       "      <td>...</td>\n",
       "      <td>...</td>\n",
       "      <td>...</td>\n",
       "      <td>...</td>\n",
       "      <td>...</td>\n",
       "    </tr>\n",
       "    <tr>\n",
       "      <th>6504</th>\n",
       "      <td>Commercial Banking and Wealth Management Add: ...</td>\n",
       "      <td>22.00</td>\n",
       "      <td>1</td>\n",
       "      <td>2022</td>\n",
       "      <td>-0.444934</td>\n",
       "    </tr>\n",
       "    <tr>\n",
       "      <th>6505</th>\n",
       "      <td>Commercial Banking and Wealth Management Add: ...</td>\n",
       "      <td>29.00</td>\n",
       "      <td>1</td>\n",
       "      <td>2022</td>\n",
       "      <td>-0.439897</td>\n",
       "    </tr>\n",
       "    <tr>\n",
       "      <th>6506</th>\n",
       "      <td>Commercial Banking and Wealth Management Prepr...</td>\n",
       "      <td>229.00</td>\n",
       "      <td>1</td>\n",
       "      <td>2022</td>\n",
       "      <td>-0.295968</td>\n",
       "    </tr>\n",
       "    <tr>\n",
       "      <th>6507</th>\n",
       "      <td>Commercial Banking and Wealth Management Preta...</td>\n",
       "      <td>13.00</td>\n",
       "      <td>1</td>\n",
       "      <td>2022</td>\n",
       "      <td>-0.451411</td>\n",
       "    </tr>\n",
       "    <tr>\n",
       "      <th>6508</th>\n",
       "      <td>Commercial Banking and Wealth Management Adjus...</td>\n",
       "      <td>242.00</td>\n",
       "      <td>1</td>\n",
       "      <td>2022</td>\n",
       "      <td>-0.286613</td>\n",
       "    </tr>\n",
       "  </tbody>\n",
       "</table>\n",
       "<p>3253 rows × 5 columns</p>\n",
       "</div>"
      ],
      "text/plain": [
       "                                                   text    value  quarter  \\\n",
       "0                                               Revenue  6164.00        2   \n",
       "1                                   Reported Net Income  1749.00        2   \n",
       "2                                   Adjusted Net Income  1718.00        2   \n",
       "3                Adjusted preprovision, pretax earnings  2690.00        2   \n",
       "4                   Reported Diluted Earnings Per Share     1.79        2   \n",
       "...                                                 ...      ...      ...   \n",
       "6504  Commercial Banking and Wealth Management Add: ...    22.00        1   \n",
       "6505  Commercial Banking and Wealth Management Add: ...    29.00        1   \n",
       "6506  Commercial Banking and Wealth Management Prepr...   229.00        1   \n",
       "6507  Commercial Banking and Wealth Management Preta...    13.00        1   \n",
       "6508  Commercial Banking and Wealth Management Adjus...   242.00        1   \n",
       "\n",
       "      year  value_standardized  \n",
       "0     2024            3.975117  \n",
       "1     2024            0.797890  \n",
       "2     2024            0.775581  \n",
       "3     2024            1.475075  \n",
       "4     2024           -0.459478  \n",
       "...    ...                 ...  \n",
       "6504  2022           -0.444934  \n",
       "6505  2022           -0.439897  \n",
       "6506  2022           -0.295968  \n",
       "6507  2022           -0.451411  \n",
       "6508  2022           -0.286613  \n",
       "\n",
       "[3253 rows x 5 columns]"
      ]
     },
     "execution_count": 494,
     "metadata": {},
     "output_type": "execute_result"
    }
   ],
   "source": [
    "train_df"
   ]
  },
  {
   "cell_type": "markdown",
   "id": "4c9e5618-9af9-4e01-84aa-0b9c13f7ad66",
   "metadata": {},
   "source": [
    "# Label Encoding"
   ]
  },
  {
   "cell_type": "code",
   "execution_count": 495,
   "id": "a2d6a288-e3f0-49b6-895d-73f141a506d0",
   "metadata": {},
   "outputs": [],
   "source": [
    "def label_encode_with_unseen_handling(train_df, test_df, column_name):\n",
    "    label_encoder = LabelEncoder()\n",
    "    train_df[f'{column_name}_encoded'] = label_encoder.fit_transform(train_df[column_name])\n",
    "    unseen_label = -1\n",
    "    test_df[f'{column_name}_encoded'] = test_df[column_name].apply(\n",
    "        lambda x: label_encoder.transform([x])[0] if x in label_encoder.classes_ else unseen_label\n",
    "    )\n",
    "\n",
    "    return train_df, test_df, label_encoder\n",
    "\n",
    "train_df, test_df_q32024, label_encoder = label_encode_with_unseen_handling(train_df, test_df_q32024, 'text')"
   ]
  },
  {
   "cell_type": "markdown",
   "id": "c6bcb883-cb34-4004-a847-ba91f0abf6be",
   "metadata": {},
   "source": [
    "# Model Prediction"
   ]
  },
  {
   "cell_type": "code",
   "execution_count": 496,
   "id": "c0088749-e8d6-4dfd-a999-2e1358c97368",
   "metadata": {},
   "outputs": [
    {
     "name": "stdout",
     "output_type": "stream",
     "text": [
      "\n",
      "Linear Regression Results:\n",
      "  Validation Metrics: {'MSE': 1.0366929922072416, 'R2': 0.08623750288534426, 'MAE': 0.5265215585616265}\n",
      "  Test Metrics: {'MSE': 1.6482047859703213, 'R2': 0.07145196003446486, 'MAE': 0.6412049250482255}\n",
      "\n",
      "Random Forest Results:\n",
      "  Validation Metrics: {'MSE': 0.1442358054424831, 'R2': 0.8728675984643679, 'MAE': 0.1893236738254847}\n",
      "  Test Metrics: {'MSE': 0.2485335109808219, 'R2': 0.8599838403265319, 'MAE': 0.2234991581266149}\n",
      "\n",
      "XGBoost Results:\n",
      "  Validation Metrics: {'MSE': 0.3636540982704749, 'R2': 0.6794678082909429, 'MAE': 0.2726938316877813}\n",
      "  Test Metrics: {'MSE': 0.5352478564318991, 'R2': 0.6984577691946203, 'MAE': 0.3523236332527999}\n"
     ]
    }
   ],
   "source": [
    "class DataSplitter(BaseEstimator, TransformerMixin):\n",
    "    def __init__(self, features, target):\n",
    "        self.features = features\n",
    "        self.target = target\n",
    "\n",
    "    def fit(self, X, y=None):\n",
    "        return self\n",
    "\n",
    "    def transform(self, X):\n",
    "        return X[self.features], X[self.target]\n",
    "\n",
    "def evaluate_model(model, X_train, y_train, X_val, y_val, X_test, y_test):\n",
    "    model.fit(X_train, y_train)\n",
    "\n",
    "    y_val_pred = model.predict(X_val)\n",
    "    val_metrics = {\n",
    "        'MSE': mean_squared_error(y_val, y_val_pred),\n",
    "        'R2': r2_score(y_val, y_val_pred),\n",
    "        'MAE': mean_absolute_error(y_val, y_val_pred),\n",
    "    }\n",
    "\n",
    "    y_test_pred = model.predict(X_test)\n",
    "    test_metrics = {\n",
    "        'MSE': mean_squared_error(y_test, y_test_pred),\n",
    "        'R2': r2_score(y_test, y_test_pred),\n",
    "        'MAE': mean_absolute_error(y_test, y_test_pred),\n",
    "    }\n",
    "\n",
    "    return val_metrics, test_metrics\n",
    "\n",
    "# Pipeline setup\n",
    "def build_pipeline(model, features, target):\n",
    "    pipeline = Pipeline([\n",
    "        ('split_data', DataSplitter(features, target)),\n",
    "        ('model', model)                                \n",
    "    ])\n",
    "    return pipeline\n",
    "    \n",
    "features = ['text_encoded', 'quarter', 'year'] \n",
    "target = 'value_standardized'\n",
    "\n",
    "X_train_full = train_df[features]\n",
    "y_train_full = train_df[target]\n",
    "X_test = test_df_q32024[features]\n",
    "y_test = test_df_q32024[target]\n",
    "\n",
    "X_train, X_val, y_train, y_val = train_test_split(X_train_full, y_train_full, test_size=0.2, random_state=42)\n",
    "\n",
    "models = {\n",
    "    'Linear Regression': LinearRegression(),\n",
    "    'Random Forest': RandomForestRegressor(random_state=42),\n",
    "    'XGBoost': XGBRegressor(random_state=42, objective='reg:squarederror')\n",
    "}\n",
    "\n",
    "results = {}\n",
    "for model_name, model in models.items():\n",
    "    pipeline = build_pipeline(model, features, target)\n",
    "    val_metrics, test_metrics = evaluate_model(\n",
    "        model, X_train, y_train, X_val, y_val, X_test, y_test\n",
    "    )\n",
    "    \n",
    "    results[model_name] = {\n",
    "        'Validation': val_metrics,\n",
    "        'Test': test_metrics\n",
    "    }\n",
    "\n",
    "for model_name, metrics in results.items():\n",
    "    print(f\"\\n{model_name} Results:\")\n",
    "    print(f\"  Validation Metrics: {metrics['Validation']}\")\n",
    "    print(f\"  Test Metrics: {metrics['Test']}\")"
   ]
  },
  {
   "cell_type": "markdown",
   "id": "18d8dcb3-83cc-4492-9d1e-40a844c8cb96",
   "metadata": {},
   "source": [
    "## with hyper parameter tunning"
   ]
  },
  {
   "cell_type": "code",
   "execution_count": 497,
   "id": "2edbb571-6283-4301-ba4b-e5967a5ded75",
   "metadata": {},
   "outputs": [],
   "source": [
    "# tfidf_vectorizer = TfidfVectorizer(max_features=5000) \n",
    "# X_text_train = tfidf_vectorizer.fit_transform(train_df['text']).toarray()\n",
    "# X_text_test = tfidf_vectorizer.transform(test_df_q32024['text']).toarray()\n",
    "\n",
    "# X_train_full = pd.DataFrame(X_text_train).join(train_df[['quarter', 'year']].reset_index(drop=True))\n",
    "# X_test = pd.DataFrame(X_text_test).join(test_df_q32024[['quarter', 'year']].reset_index(drop=True))\n",
    "\n",
    "# X_train_full.columns = X_train_full.columns.astype(str)\n",
    "# X_test.columns = X_test.columns.astype(str)\n",
    "\n",
    "# y_train_full = train_df['value_standardized']\n",
    "# y_test = test_df_q32024['value_standardized']\n",
    "\n",
    "# X_train, X_val, y_train, y_val = train_test_split(X_train_full, y_train_full, test_size=0.2, random_state=42)\n",
    "\n",
    "# param_distributions = {\n",
    "#     'n_estimators': [100, 200, 300],\n",
    "#     'max_depth': [10, 20, None],\n",
    "#     'min_samples_split': [2, 5, 10],\n",
    "#     'min_samples_leaf': [1, 2, 4],\n",
    "#     'max_features': ['sqrt', 'log2']\n",
    "# }\n",
    "\n",
    "# random_forest = RandomForestRegressor(random_state=42)\n",
    "# random_search = RandomizedSearchCV(\n",
    "#     estimator=random_forest,\n",
    "#     param_distributions=param_distributions,\n",
    "#     n_iter=25,  \n",
    "#     cv=3,       \n",
    "#     scoring='neg_mean_squared_error',\n",
    "#     random_state=42,\n",
    "#     n_jobs=-1  \n",
    "# )\n",
    "\n",
    "# random_search.fit(X_train, y_train)\n",
    "\n",
    "# best_rf = random_search.best_estimator_\n",
    "# best_params = random_search.best_params_\n",
    "# print(f\"Best Parameters: {best_params}\")\n",
    "\n",
    "# y_train_pred = best_rf.predict(X_train)\n",
    "# y_val_pred = best_rf.predict(X_val)\n",
    "# y_test_pred = best_rf.predict(X_test)\n",
    "\n",
    "# train_metrics = {\n",
    "#     'MSE': mean_squared_error(y_train, y_train_pred),\n",
    "#     'R2': r2_score(y_train, y_train_pred),\n",
    "#     'MAE': mean_absolute_error(y_train, y_train_pred),\n",
    "# }\n",
    "\n",
    "# val_metrics = {\n",
    "#     'MSE': mean_squared_error(y_val, y_val_pred),\n",
    "#     'R2': r2_score(y_val, y_val_pred),\n",
    "#     'MAE': mean_absolute_error(y_val, y_val_pred),\n",
    "# }\n",
    "\n",
    "# test_metrics = {\n",
    "#     'MSE': mean_squared_error(y_test, y_test_pred),\n",
    "#     'R2': r2_score(y_test, y_test_pred),\n",
    "#     'MAE': mean_absolute_error(y_test, y_test_pred),\n",
    "# }\n",
    "\n",
    "# print(\"\\nRandom Forest with Hyperparameter Tuning Results:\")\n",
    "# print(f\"  Training Metrics: {train_metrics}\")\n",
    "# print(f\"  Validation Metrics: {val_metrics}\")\n",
    "# print(f\"  Test Metrics: {test_metrics}\")\n"
   ]
  },
  {
   "cell_type": "markdown",
   "id": "fdc98607-4b61-4e32-81d6-732c313d5b6e",
   "metadata": {},
   "source": [
    "### tfidf"
   ]
  },
  {
   "cell_type": "code",
   "execution_count": 498,
   "id": "4a7788ca-dae1-4873-928b-cad91e31b22b",
   "metadata": {},
   "outputs": [
    {
     "name": "stdout",
     "output_type": "stream",
     "text": [
      "\n",
      "Linear Regression Results:\n",
      "  Training Metrics: {'MSE': 0.4337251901815559, 'R2': 0.551162235221885, 'MAE': 0.3835725833637841}\n",
      "  Validation Metrics: {'MSE': 0.5400753670335453, 'R2': 0.5239664782917404, 'MAE': 0.39668846342148184}\n",
      "  Test Metrics: {'MSE': 0.9093869691355364, 'R2': 0.4876792647681306, 'MAE': 0.48074891375278594}\n",
      "\n",
      "Random Forest Results:\n",
      "  Training Metrics: {'MSE': 0.028806679811838685, 'R2': 0.9701895899290234, 'MAE': 0.06987084836233248}\n",
      "  Validation Metrics: {'MSE': 0.07122725901817305, 'R2': 0.9372188308859839, 'MAE': 0.1302172433996847}\n",
      "  Test Metrics: {'MSE': 0.10894557793093984, 'R2': 0.9386234018298086, 'MAE': 0.1486634546680199}\n",
      "\n",
      "XGBoost Results:\n",
      "  Training Metrics: {'MSE': 0.027808065978486632, 'R2': 0.9712229991267936, 'MAE': 0.07643634958088923}\n",
      "  Validation Metrics: {'MSE': 0.06227050141580925, 'R2': 0.9451135010094515, 'MAE': 0.12703976728725952}\n",
      "  Test Metrics: {'MSE': 0.1022318022332767, 'R2': 0.9424057372033607, 'MAE': 0.14577281255095537}\n"
     ]
    }
   ],
   "source": [
    "tfidf_vectorizer = TfidfVectorizer(max_features=5000)  \n",
    "X_text_train = tfidf_vectorizer.fit_transform(train_df['text']).toarray()\n",
    "X_text_test = tfidf_vectorizer.transform(test_df_q32024['text']).toarray()\n",
    "\n",
    "X_train_full = pd.DataFrame(X_text_train).join(train_df[['quarter', 'year']].reset_index(drop=True))\n",
    "X_test = pd.DataFrame(X_text_test).join(test_df_q32024[['quarter', 'year']].reset_index(drop=True))\n",
    "\n",
    "X_train_full.columns = X_train_full.columns.astype(str)\n",
    "X_test.columns = X_test.columns.astype(str)\n",
    "\n",
    "y_train_full = train_df['value_standardized']\n",
    "y_test = test_df_q32024['value_standardized']\n",
    "\n",
    "X_train, X_val, y_train, y_val = train_test_split(X_train_full, y_train_full, test_size=0.2, random_state=42)\n",
    "\n",
    "def evaluate_model(model, X_train, y_train, X_val, y_val, X_test, y_test):\n",
    "    model.fit(X_train, y_train)\n",
    "\n",
    "    y_train_pred = model.predict(X_train)\n",
    "    train_metrics = {\n",
    "        'MSE': mean_squared_error(y_train, y_train_pred),\n",
    "        'R2': r2_score(y_train, y_train_pred),\n",
    "        'MAE': mean_absolute_error(y_train, y_train_pred),\n",
    "    }\n",
    "\n",
    "    y_val_pred = model.predict(X_val)\n",
    "    val_metrics = {\n",
    "        'MSE': mean_squared_error(y_val, y_val_pred),\n",
    "        'R2': r2_score(y_val, y_val_pred),\n",
    "        'MAE': mean_absolute_error(y_val, y_val_pred),\n",
    "    }\n",
    "\n",
    "    y_test_pred = model.predict(X_test)\n",
    "    test_metrics = {\n",
    "        'MSE': mean_squared_error(y_test, y_test_pred),\n",
    "        'R2': r2_score(y_test, y_test_pred),\n",
    "        'MAE': mean_absolute_error(y_test, y_test_pred),\n",
    "    }\n",
    "\n",
    "    return train_metrics, val_metrics, test_metrics\n",
    "\n",
    "models = {\n",
    "    'Linear Regression': LinearRegression(),\n",
    "    'Random Forest': RandomForestRegressor(random_state=42),\n",
    "    'XGBoost': XGBRegressor(random_state=42, objective='reg:squarederror')\n",
    "}\n",
    "\n",
    "results = {}\n",
    "for model_name, model in models.items():\n",
    "    train_metrics, val_metrics, test_metrics = evaluate_model(\n",
    "        model, X_train, y_train, X_val, y_val, X_test, y_test\n",
    "    )\n",
    "    \n",
    "    results[model_name] = {\n",
    "        'Training': train_metrics,\n",
    "        'Validation': val_metrics,\n",
    "        'Test': test_metrics\n",
    "    }\n",
    "\n",
    "for model_name, metrics in results.items():\n",
    "    print(f\"\\n{model_name} Results:\")\n",
    "    print(f\"  Training Metrics: {metrics['Training']}\")\n",
    "    print(f\"  Validation Metrics: {metrics['Validation']}\")\n",
    "    print(f\"  Test Metrics: {metrics['Test']}\")\n"
   ]
  },
  {
   "cell_type": "markdown",
   "id": "2fd3c2fd-eb54-4106-a735-bc1c9925dec6",
   "metadata": {},
   "source": [
    "# saving and exporting the model"
   ]
  },
  {
   "cell_type": "code",
   "execution_count": 499,
   "id": "ec440add-0f45-4223-bdf2-5df02e9ff380",
   "metadata": {},
   "outputs": [
    {
     "name": "stdout",
     "output_type": "stream",
     "text": [
      "Model saved as tfidf_vectorizer.joblib\n",
      "Model saved as random_forest_model.joblib\n",
      "Model saved as xgboost_model.joblib\n"
     ]
    },
    {
     "data": {
      "text/plain": [
       "['train_tfidf_vectors.joblib']"
      ]
     },
     "execution_count": 499,
     "metadata": {},
     "output_type": "execute_result"
    }
   ],
   "source": [
    "def save_model(model, filename):\n",
    "    joblib.dump(model, filename)\n",
    "    print(f\"Model saved as {filename}\")\n",
    "\n",
    "save_model(tfidf_vectorizer, 'tfidf_vectorizer.joblib')\n",
    "save_model(models['Random Forest'], 'random_forest_model.joblib')\n",
    "save_model(models['XGBoost'], 'xgboost_model.joblib')\n",
    "joblib.dump(X_text_train, 'train_tfidf_vectors.joblib')  # Save vectors"
   ]
  },
  {
   "cell_type": "code",
   "execution_count": 500,
   "id": "7430faf7-c16c-41ec-b780-aa8f313d5c3d",
   "metadata": {},
   "outputs": [
    {
     "name": "stdout",
     "output_type": "stream",
     "text": [
      "Models loaded successfully!\n"
     ]
    }
   ],
   "source": [
    "def load_model(filename):\n",
    "    return joblib.load(filename)\n",
    "\n",
    "tfidf_vectorizer_loaded = load_model('tfidf_vectorizer.joblib')\n",
    "random_forest_loaded = load_model('random_forest_model.joblib')\n",
    "xgboost_loaded = load_model('xgboost_model.joblib')\n",
    "\n",
    "print(\"Models loaded successfully!\")\n"
   ]
  }
 ],
 "metadata": {
  "kernelspec": {
   "display_name": "Python 3 (ipykernel)",
   "language": "python",
   "name": "python3"
  },
  "language_info": {
   "codemirror_mode": {
    "name": "ipython",
    "version": 3
   },
   "file_extension": ".py",
   "mimetype": "text/x-python",
   "name": "python",
   "nbconvert_exporter": "python",
   "pygments_lexer": "ipython3",
   "version": "3.11.7"
  }
 },
 "nbformat": 4,
 "nbformat_minor": 5
}
